{
 "cells": [
  {
   "cell_type": "markdown",
   "metadata": {
    "deletable": false,
    "editable": false,
    "nbgrader": {
     "cell_type": "markdown",
     "checksum": "501a691e67b46db3675a02b34fad2012",
     "grade": false,
     "grade_id": "cell-56451645af3178ba",
     "locked": true,
     "schema_version": 3,
     "solution": false,
     "task": false
    }
   },
   "source": [
    "# Worksheet 6 - Classification\n",
    "\n",
    "### Lecture and Tutorial Learning Goals:\n",
    "\n",
    "After completing this week's lecture and tutorial work, you will be able to:\n",
    "\n",
    "* Recognize situations where a simple classifier would be appropriate for making predictions.\n",
    "* Explain the $K$-nearest neighbour classification algorithm.\n",
    "* Interpret the output of a classifier.\n",
    "* Compute, by hand, the distance between points when there are two explanatory variables/predictors.\n",
    "* Describe what a training data set is and how it is used in classification.\n",
    "* Given a dataset with two explanatory variables/predictors, use $K$-nearest neighbour classification in Python using the `scikit-learn` framework to predict the class of a single new observation.\n",
    "\n",
    "This worksheet covers parts of [Chapter 5](https://python.datasciencebook.ca/classification1.html) of the online textbook. You should read this chapter before attempting this assignment. Any place you see `___`, you must fill in the function, variable, or data to complete the code. Substitute the `raise NotImplementedError` with your completed code and answers then proceed to run the cell."
   ]
  },
  {
   "cell_type": "code",
   "execution_count": null,
   "metadata": {
    "deletable": false,
    "editable": false,
    "nbgrader": {
     "cell_type": "code",
     "checksum": "f25bda76549040444e709e846f259475",
     "grade": false,
     "grade_id": "cell-9ca533e5e836f7e3",
     "locked": true,
     "schema_version": 3,
     "solution": false,
     "task": false
    }
   },
   "outputs": [],
   "source": [
    "### Run this cell before continuing\n",
    "import random\n",
    "\n",
    "import altair as alt\n",
    "import pandas as pd\n",
    "from sklearn.compose import make_column_transformer\n",
    "from sklearn.neighbors import KNeighborsClassifier\n",
    "from sklearn.pipeline import make_pipeline\n",
    "from sklearn.metrics.pairwise import euclidean_distances\n",
    "from sklearn import set_config\n",
    "\n",
    "# Simplify working with large datasets in Altair\n",
    "alt.data_transformers.disable_max_rows()\n",
    "\n",
    "# Output dataframes instead of arrays\n",
    "set_config(transform_output=\"pandas\")"
   ]
  },
  {
   "cell_type": "markdown",
   "metadata": {
    "deletable": false,
    "editable": false,
    "nbgrader": {
     "cell_type": "markdown",
     "checksum": "99d46d99d2b631d0b270ade6bfebea39",
     "grade": false,
     "grade_id": "cell-1b949a8db8729285",
     "locked": true,
     "schema_version": 3,
     "solution": false
    }
   },
   "source": [
    "**Question 0.1** Multiple Choice: \n",
    "<br> {points: 1}\n",
    "\n",
    "**Which of the following statements is NOT true of a training data set (in the context of classification)?**\n",
    "\n",
    "A. A training data set is a collection of observations for which we know the true classes.\n",
    "\n",
    "B. We can use a training set to explore and build our classifier.\n",
    "\n",
    "C. The training data set is the underlying collection of observations for which we don't know the true classes.\n",
    "\n",
    "*Assign your answer to an object called `answer0_1`. Make sure the correct answer is an uppercase letter. Remember to surround your answer with quotation marks (e.g. \"D\").*"
   ]
  },
  {
   "cell_type": "code",
   "execution_count": null,
   "metadata": {
    "deletable": false,
    "nbgrader": {
     "cell_type": "code",
     "checksum": "94d02735e3d133ba5eda081d874bd5e1",
     "grade": false,
     "grade_id": "cell-f0a0878626777907",
     "locked": false,
     "schema_version": 3,
     "solution": true
    }
   },
   "outputs": [],
   "source": [
    "# your code here\n",
    "raise NotImplementedError"
   ]
  },
  {
   "cell_type": "code",
   "execution_count": null,
   "metadata": {
    "deletable": false,
    "editable": false,
    "nbgrader": {
     "cell_type": "code",
     "checksum": "4646f9f5f4f076cee88bea8bfe8a02f6",
     "grade": true,
     "grade_id": "cell-5cb2c8e6177337fd",
     "locked": true,
     "points": 3,
     "schema_version": 3,
     "solution": false
    }
   },
   "outputs": [],
   "source": [
    "from hashlib import sha1\n",
    "assert sha1(str(type(answer0_1)).encode(\"utf-8\")+b\"59e8\").hexdigest() == \"f70a6af77babf11afa3a50f7a15e532aa7baf3f3\", \"type of answer0_1 is not str. answer0_1 should be an str\"\n",
    "assert sha1(str(len(answer0_1)).encode(\"utf-8\")+b\"59e8\").hexdigest() == \"3b3b8f9d183db109adfa13225d741063b08dff85\", \"length of answer0_1 is not correct\"\n",
    "assert sha1(str(answer0_1.lower()).encode(\"utf-8\")+b\"59e8\").hexdigest() == \"6edfdac10655fefa98b28f34c9d1f860dcce8ff7\", \"value of answer0_1 is not correct\"\n",
    "assert sha1(str(answer0_1).encode(\"utf-8\")+b\"59e8\").hexdigest() == \"9dd39830e122b8184b1799ac7d2e687f95a317b7\", \"correct string value of answer0_1 but incorrect case of letters\"\n",
    "\n",
    "print('Success!')"
   ]
  },
  {
   "cell_type": "markdown",
   "metadata": {
    "deletable": false,
    "editable": false,
    "nbgrader": {
     "cell_type": "markdown",
     "checksum": "757c49374677b53811641456866ac212",
     "grade": false,
     "grade_id": "cell-7996c030ec20bf5c",
     "locked": true,
     "schema_version": 3,
     "solution": false
    }
   },
   "source": [
    "**Question 0.2** Multiple Choice\n",
    "<br> {points: 1}\n",
    "\n",
    "(Adapted from James et al, \"[An introduction to statistical learning](http://www-bcf.usc.edu/~gareth/ISL/)\" (page 53))\n",
    "\n",
    "Consider the scenario below: \n",
    "\n",
    "We collect data on 20 similar products. For each product we have recorded whether it was a success or failure (labelled as such by the Sales team), price charged for the product, marketing budget, competition price, customer data, and ten other variables. \n",
    "\n",
    "**Which of the following is a classification problem?**\n",
    "\n",
    "A. We are interested in comparing the profit margins for products that are a success and products that are a failure. \n",
    "\n",
    "B. We are considering launching a new product and wish to know whether it will be a success or a failure. \n",
    "\n",
    "C. We wish to group customers based on their preferences and use that knowledge to develop targeted marketing programs. \n",
    "\n",
    "*Assign your answer to an object called `answer0_2`. Make sure the correct answer is an uppercase letter. Remember to surround your answer with quotation marks (e.g. \"F\").*"
   ]
  },
  {
   "cell_type": "code",
   "execution_count": null,
   "metadata": {
    "deletable": false,
    "nbgrader": {
     "cell_type": "code",
     "checksum": "d5b8dc21e2c953fb2513876edfc8ece3",
     "grade": false,
     "grade_id": "cell-62c49be2ada51acc",
     "locked": false,
     "schema_version": 3,
     "solution": true
    }
   },
   "outputs": [],
   "source": [
    "# your code here\n",
    "raise NotImplementedError"
   ]
  },
  {
   "cell_type": "code",
   "execution_count": null,
   "metadata": {
    "deletable": false,
    "editable": false,
    "nbgrader": {
     "cell_type": "code",
     "checksum": "3aa9e7a9b98a1bd1e5e8bb848b910231",
     "grade": true,
     "grade_id": "cell-61c63c0827e2a73e",
     "locked": true,
     "points": 3,
     "schema_version": 3,
     "solution": false
    }
   },
   "outputs": [],
   "source": [
    "from hashlib import sha1\n",
    "assert sha1(str(type(answer0_2)).encode(\"utf-8\")+b\"b9cdb\").hexdigest() == \"351b6021c8f87571484eee4e4c7bf0a0b7ed21fc\", \"type of answer0_2 is not str. answer0_2 should be an str\"\n",
    "assert sha1(str(len(answer0_2)).encode(\"utf-8\")+b\"b9cdb\").hexdigest() == \"439859842b2ff5343f142aebc166bbd2f5c1ba63\", \"length of answer0_2 is not correct\"\n",
    "assert sha1(str(answer0_2.lower()).encode(\"utf-8\")+b\"b9cdb\").hexdigest() == \"eac7d86ae102d0cf10bcd9c8da29efa7bd262db9\", \"value of answer0_2 is not correct\"\n",
    "assert sha1(str(answer0_2).encode(\"utf-8\")+b\"b9cdb\").hexdigest() == \"219cf8d4b385560346b8cfeb877dfdfc50ca9e69\", \"correct string value of answer0_2 but incorrect case of letters\"\n",
    "\n",
    "print('Success!')"
   ]
  },
  {
   "cell_type": "markdown",
   "metadata": {
    "deletable": false,
    "editable": false,
    "nbgrader": {
     "cell_type": "markdown",
     "checksum": "f7d68784cae2955bfc549e6498296a52",
     "grade": false,
     "grade_id": "cell-e5066772a12351f8",
     "locked": true,
     "schema_version": 3,
     "solution": false
    }
   },
   "source": [
    "## 1. Breast Cancer Data Set \n",
    "We will work with the breast cancer data from this week's pre-reading. \n",
    "> Note that the breast cancer data in this worksheet have been **standardized (centred and scaled)** for you already. We will implement these steps in future worksheets/tutorials later, but for now, know the data has been standardized. Therefore the variables are unitless and hence why we have zero and negative values for variables like Radius. \n",
    "\n",
    "**Question 1.0**\n",
    "<br> {points: 1}\n",
    "\n",
    "Read the `clean-wdbc-data.csv` file (found in the `data` directory) using the `pd.read_csv` function into the notebook and store it as a data frame. *Name it `cancer`.*"
   ]
  },
  {
   "cell_type": "code",
   "execution_count": null,
   "metadata": {
    "deletable": false,
    "nbgrader": {
     "cell_type": "code",
     "checksum": "a07a9c14cef4594f8ed569286efe27fa",
     "grade": false,
     "grade_id": "cell-bc7e6d59f6a48ff4",
     "locked": false,
     "schema_version": 3,
     "solution": true
    }
   },
   "outputs": [],
   "source": [
    "# your code here\n",
    "raise NotImplementedError\n",
    "cancer"
   ]
  },
  {
   "cell_type": "code",
   "execution_count": null,
   "metadata": {
    "deletable": false,
    "editable": false,
    "nbgrader": {
     "cell_type": "code",
     "checksum": "b10e926a75f9734431782617a67e56dc",
     "grade": true,
     "grade_id": "cell-b7dada2851cb2d39",
     "locked": true,
     "points": 1,
     "schema_version": 3,
     "solution": false
    }
   },
   "outputs": [],
   "source": [
    "from hashlib import sha1\n",
    "assert sha1(str(type(cancer is None)).encode(\"utf-8\")+b\"1edfa\").hexdigest() == \"f89107c5738f5567ac4ce7e619af326d8dc7e7e4\", \"type of cancer is None is not bool. cancer is None should be a bool\"\n",
    "assert sha1(str(cancer is None).encode(\"utf-8\")+b\"1edfa\").hexdigest() == \"71bbe216c3f112174b74da6122dd837cb4abaafa\", \"boolean value of cancer is None is not correct\"\n",
    "\n",
    "assert sha1(str(type(cancer)).encode(\"utf-8\")+b\"1edfb\").hexdigest() == \"5f4717efa0f9568127506afdab187398929a3f76\", \"type of type(cancer) is not correct\"\n",
    "\n",
    "assert sha1(str(type(cancer.shape)).encode(\"utf-8\")+b\"1edfc\").hexdigest() == \"6790c026fc62f7f025cc5dfb65b5589e70c94f24\", \"type of cancer.shape is not tuple. cancer.shape should be a tuple\"\n",
    "assert sha1(str(len(cancer.shape)).encode(\"utf-8\")+b\"1edfc\").hexdigest() == \"e400bacf4406589a930f6cb04146f55ae09adbe1\", \"length of cancer.shape is not correct\"\n",
    "assert sha1(str(sorted(map(str, cancer.shape))).encode(\"utf-8\")+b\"1edfc\").hexdigest() == \"bc58412175f96aad1b5f00e35cbf014630e9667a\", \"values of cancer.shape are not correct\"\n",
    "assert sha1(str(cancer.shape).encode(\"utf-8\")+b\"1edfc\").hexdigest() == \"03f45e6b2934a9d89a82761d8cd384e41a96882e\", \"order of elements of cancer.shape is not correct\"\n",
    "\n",
    "assert sha1(str(type(sum(cancer.Area))).encode(\"utf-8\")+b\"1edfd\").hexdigest() == \"8459034dfcce3dc398256d3235e7ea1c0a6eab66\", \"type of sum(cancer.Area) is not float. Please make sure it is float and not np.float64, etc. You can cast your value into a float using float()\"\n",
    "assert sha1(str(round(sum(cancer.Area), 2)).encode(\"utf-8\")+b\"1edfd\").hexdigest() == \"578eeb3cce10656ea3740570a63c462e74b5bee3\", \"value of sum(cancer.Area) is not correct (rounded to 2 decimal places)\"\n",
    "\n",
    "assert sha1(str(type(cancer.columns.values)).encode(\"utf-8\")+b\"1edfe\").hexdigest() == \"ec1b028616e5bf668b318569d326edbe4fa5792d\", \"type of cancer.columns.values is not correct\"\n",
    "assert sha1(str(cancer.columns.values).encode(\"utf-8\")+b\"1edfe\").hexdigest() == \"46e462ccc418670863709af1c7c6c89e4aa501be\", \"value of cancer.columns.values is not correct\"\n",
    "\n",
    "assert sha1(str(type(cancer['Class'].dtype)).encode(\"utf-8\")+b\"1edff\").hexdigest() == \"afffce8467d6f078e21aa318ecedfd6b8782be5f\", \"type of cancer['Class'].dtype is not correct\"\n",
    "assert sha1(str(cancer['Class'].dtype).encode(\"utf-8\")+b\"1edff\").hexdigest() == \"852a6171a68036a67ec486822760a69c8cd61e0d\", \"value of cancer['Class'].dtype is not correct\"\n",
    "\n",
    "print('Success!')"
   ]
  },
  {
   "cell_type": "markdown",
   "metadata": {
    "deletable": false,
    "editable": false,
    "nbgrader": {
     "cell_type": "markdown",
     "checksum": "d75978768753be37eea081f588dc09b4",
     "grade": false,
     "grade_id": "cell-4abc7741b213ce9e",
     "locked": true,
     "schema_version": 3,
     "solution": false
    }
   },
   "source": [
    "**Question 1.1** True or False: \n",
    "<br> {points: 1}\n",
    "\n",
    "After looking at the first six rows of the `cancer` data fame, suppose we asked you to predict the variable \"area\" for a new observation. **Is this a classification problem?**\n",
    "\n",
    "*Assign your answer to an object called `answer1_1`. Make sure the correct answer is a boolean. i.e. `True` or `False`.*"
   ]
  },
  {
   "cell_type": "code",
   "execution_count": null,
   "metadata": {
    "deletable": false,
    "nbgrader": {
     "cell_type": "code",
     "checksum": "ba6decd9db010e62ada7ec4c2624dc0e",
     "grade": false,
     "grade_id": "cell-787de50bba80be9c",
     "locked": false,
     "schema_version": 3,
     "solution": true
    }
   },
   "outputs": [],
   "source": [
    "# your code here\n",
    "raise NotImplementedError"
   ]
  },
  {
   "cell_type": "code",
   "execution_count": null,
   "metadata": {
    "deletable": false,
    "editable": false,
    "nbgrader": {
     "cell_type": "code",
     "checksum": "36f1dfe8d433ac8542f8dc7f12b6b2c6",
     "grade": true,
     "grade_id": "cell-8c2ac2ec68bc2ef2",
     "locked": true,
     "points": 3,
     "schema_version": 3,
     "solution": false
    }
   },
   "outputs": [],
   "source": [
    "from hashlib import sha1\n",
    "assert sha1(str(type(answer1_1)).encode(\"utf-8\")+b\"3524b\").hexdigest() == \"96e967f4261014f1a2a76ba5f230d7b7e85abe83\", \"type of answer1_1 is not bool. answer1_1 should be a bool\"\n",
    "assert sha1(str(answer1_1).encode(\"utf-8\")+b\"3524b\").hexdigest() == \"88e4fbb75d430084961a28b324179d14f4999b12\", \"boolean value of answer1_1 is not correct\"\n",
    "\n",
    "print('Success!')"
   ]
  },
  {
   "cell_type": "markdown",
   "metadata": {
    "deletable": false,
    "editable": false,
    "nbgrader": {
     "cell_type": "markdown",
     "checksum": "d5fc1087197d530c400ba09976b8aef5",
     "grade": false,
     "grade_id": "cell-d668650abd9bc1df",
     "locked": true,
     "schema_version": 3,
     "solution": false
    }
   },
   "source": [
    "**Question 1.2** \n",
    "<br> {points: 1}\n",
    "\n",
    "Create a scatterplot of the data with `Symmetry` on the x-axis and `Radius` on the y-axis. Modify your aesthetics by colouring for `Class`. As you create this plot, ensure you follow the guidelines for creating effective visualizations. In particular, note in the chart axis titles whether the data is standardized or not and add a suitable opacity level to the graphical mark. You should also replace the values in the dataframe's `Class` column from `'M'` to `'Malignant'` and from `'B'` to `'Benign'`. \n",
    "\n",
    "*Assign your plot to an object called `cancer_plot`.*"
   ]
  },
  {
   "cell_type": "code",
   "execution_count": null,
   "metadata": {
    "deletable": false,
    "nbgrader": {
     "cell_type": "code",
     "checksum": "4333fde6fe293e05d20ecc4346eb82fc",
     "grade": false,
     "grade_id": "cell-6dadc99c524407f7",
     "locked": false,
     "schema_version": 3,
     "solution": true
    }
   },
   "outputs": [],
   "source": [
    "# cancer[\"Class\"] = cancer[\"Class\"].___({\n",
    "#     ___,\n",
    "#     ___\n",
    "# })\n",
    "#\n",
    "# cancer_plot = ___\n",
    "\n",
    "# your code here\n",
    "raise NotImplementedError\n",
    "cancer_plot"
   ]
  },
  {
   "cell_type": "code",
   "execution_count": null,
   "metadata": {
    "deletable": false,
    "editable": false,
    "nbgrader": {
     "cell_type": "code",
     "checksum": "4786867d177d0f026fca0485f6428b1a",
     "grade": true,
     "grade_id": "cell-82ee9aaeac954391",
     "locked": true,
     "points": 1,
     "schema_version": 3,
     "solution": false
    }
   },
   "outputs": [],
   "source": [
    "from hashlib import sha1\n",
    "assert sha1(str(type(cancer['Class'].unique())).encode(\"utf-8\")+b\"7038e\").hexdigest() == \"2c870d7a3657b742557d66961de4a4891ee76aa2\", \"type of cancer['Class'].unique() is not correct\"\n",
    "assert sha1(str(cancer['Class'].unique()).encode(\"utf-8\")+b\"7038e\").hexdigest() == \"7be82206c225ab0f0a4ffad7c1488a64143481f7\", \"value of cancer['Class'].unique() is not correct\"\n",
    "\n",
    "assert sha1(str(type(cancer_plot is None)).encode(\"utf-8\")+b\"7038f\").hexdigest() == \"5f05f0c0e171e12d0d2b2a22d2789f0d9a8e342e\", \"type of cancer_plot is None is not bool. cancer_plot is None should be a bool\"\n",
    "assert sha1(str(cancer_plot is None).encode(\"utf-8\")+b\"7038f\").hexdigest() == \"515f1ad42fa781dff7c9975c8ded7f317ce95332\", \"boolean value of cancer_plot is None is not correct\"\n",
    "\n",
    "assert sha1(str(type(cancer_plot.encoding.x['shorthand'])).encode(\"utf-8\")+b\"70390\").hexdigest() == \"1b054e65bf0aac12e848da1d2afa2b12a5226b61\", \"type of cancer_plot.encoding.x['shorthand'] is not str. cancer_plot.encoding.x['shorthand'] should be an str\"\n",
    "assert sha1(str(len(cancer_plot.encoding.x['shorthand'])).encode(\"utf-8\")+b\"70390\").hexdigest() == \"dd930b7fa9aa4d16b4d1a89c7a39089300827489\", \"length of cancer_plot.encoding.x['shorthand'] is not correct\"\n",
    "assert sha1(str(cancer_plot.encoding.x['shorthand'].lower()).encode(\"utf-8\")+b\"70390\").hexdigest() == \"dd17739f27d755296153ed0ec742286fd3b39cb2\", \"value of cancer_plot.encoding.x['shorthand'] is not correct\"\n",
    "assert sha1(str(cancer_plot.encoding.x['shorthand']).encode(\"utf-8\")+b\"70390\").hexdigest() == \"d4212b1d5679f4601309609b6ea38ffb2d4ed07c\", \"correct string value of cancer_plot.encoding.x['shorthand'] but incorrect case of letters\"\n",
    "\n",
    "assert sha1(str(type(cancer_plot.encoding.y['shorthand'])).encode(\"utf-8\")+b\"70391\").hexdigest() == \"6fac44d279065f2a3f185c5a884fd9df6dd81cfb\", \"type of cancer_plot.encoding.y['shorthand'] is not str. cancer_plot.encoding.y['shorthand'] should be an str\"\n",
    "assert sha1(str(len(cancer_plot.encoding.y['shorthand'])).encode(\"utf-8\")+b\"70391\").hexdigest() == \"df067cfef2a7c5291dd0f9acc53fe92d50ccf1fe\", \"length of cancer_plot.encoding.y['shorthand'] is not correct\"\n",
    "assert sha1(str(cancer_plot.encoding.y['shorthand'].lower()).encode(\"utf-8\")+b\"70391\").hexdigest() == \"edf8bc4ede29cf991a36bb6d8b38713806753b47\", \"value of cancer_plot.encoding.y['shorthand'] is not correct\"\n",
    "assert sha1(str(cancer_plot.encoding.y['shorthand']).encode(\"utf-8\")+b\"70391\").hexdigest() == \"e3f5fd9a0d9f3c695791e536282f29ee7d2c6b4a\", \"correct string value of cancer_plot.encoding.y['shorthand'] but incorrect case of letters\"\n",
    "\n",
    "assert sha1(str(type(cancer_plot.encoding.color['shorthand'])).encode(\"utf-8\")+b\"70392\").hexdigest() == \"a1514e0d638e7fa47039d17e310bba44e6a8ff2c\", \"type of cancer_plot.encoding.color['shorthand'] is not str. cancer_plot.encoding.color['shorthand'] should be an str\"\n",
    "assert sha1(str(len(cancer_plot.encoding.color['shorthand'])).encode(\"utf-8\")+b\"70392\").hexdigest() == \"a43d370b386a7d21c0ac8e73bdc942b85ee93cae\", \"length of cancer_plot.encoding.color['shorthand'] is not correct\"\n",
    "assert sha1(str(cancer_plot.encoding.color['shorthand'].lower()).encode(\"utf-8\")+b\"70392\").hexdigest() == \"a2e54ddb2a451b8647df9f5b9aae970b19620f66\", \"value of cancer_plot.encoding.color['shorthand'] is not correct\"\n",
    "assert sha1(str(cancer_plot.encoding.color['shorthand']).encode(\"utf-8\")+b\"70392\").hexdigest() == \"dfff632fd3104b75a651bf07567aa5d572835f70\", \"correct string value of cancer_plot.encoding.color['shorthand'] but incorrect case of letters\"\n",
    "\n",
    "assert sha1(str(type(cancer_plot.mark)).encode(\"utf-8\")+b\"70393\").hexdigest() == \"e736aec18d8c2224b69bfe505db7d3968a4a2c7e\", \"type of cancer_plot.mark is not correct\"\n",
    "assert sha1(str(cancer_plot.mark).encode(\"utf-8\")+b\"70393\").hexdigest() == \"1746955c8bc53ef47b4cf0267c98ce50ce3b184a\", \"value of cancer_plot.mark is not correct\"\n",
    "\n",
    "assert sha1(str(type(isinstance(cancer_plot.encoding.color['title'], str))).encode(\"utf-8\")+b\"70394\").hexdigest() == \"40775fb7d185dcb2ad7acf54925bb5075bd50aca\", \"type of isinstance(cancer_plot.encoding.color['title'], str) is not bool. isinstance(cancer_plot.encoding.color['title'], str) should be a bool\"\n",
    "assert sha1(str(isinstance(cancer_plot.encoding.color['title'], str)).encode(\"utf-8\")+b\"70394\").hexdigest() == \"e42ecc8f1d08c9a9cbb062b31d6180e6271e740b\", \"boolean value of isinstance(cancer_plot.encoding.color['title'], str) is not correct\"\n",
    "\n",
    "assert sha1(str(type(isinstance(cancer_plot.encoding.x['title'], str))).encode(\"utf-8\")+b\"70395\").hexdigest() == \"711e00550c10a33b1b90544076b3b8d4a89d23bf\", \"type of isinstance(cancer_plot.encoding.x['title'], str) is not bool. isinstance(cancer_plot.encoding.x['title'], str) should be a bool\"\n",
    "assert sha1(str(isinstance(cancer_plot.encoding.x['title'], str)).encode(\"utf-8\")+b\"70395\").hexdigest() == \"b697a6b22f874c7f85b3e081a24d1b5cdd084659\", \"boolean value of isinstance(cancer_plot.encoding.x['title'], str) is not correct\"\n",
    "\n",
    "assert sha1(str(type(isinstance(cancer_plot.encoding.y['title'], str))).encode(\"utf-8\")+b\"70396\").hexdigest() == \"37f686ca3136e2e102714b66fd51cf3ef4703fc6\", \"type of isinstance(cancer_plot.encoding.y['title'], str) is not bool. isinstance(cancer_plot.encoding.y['title'], str) should be a bool\"\n",
    "assert sha1(str(isinstance(cancer_plot.encoding.y['title'], str)).encode(\"utf-8\")+b\"70396\").hexdigest() == \"d0eb5c4439424db54df14662a17296d7dc74ff3d\", \"boolean value of isinstance(cancer_plot.encoding.y['title'], str) is not correct\"\n",
    "\n",
    "print('Success!')"
   ]
  },
  {
   "cell_type": "markdown",
   "metadata": {
    "deletable": false,
    "editable": false,
    "nbgrader": {
     "cell_type": "markdown",
     "checksum": "5ba7287255d74f7b6dda894e8a4de724",
     "grade": false,
     "grade_id": "cell-19b9839a8f31d445",
     "locked": true,
     "schema_version": 3,
     "solution": false
    }
   },
   "source": [
    "**Question 1.3** \n",
    "<br> {points: 1}\n",
    "\n",
    "Just by looking at the scatterplot above, how would you classify an observation with `Symmetry` = 1 and `Radius` = 1 (Benign or Malignant)?\n",
    "\n",
    "*Assign your answer to an object called `answer1_3`. Make sure the correct answer is written fully. Remember to surround your answer with quotation marks (e.g. \"Benign\" / \"Malignant\").*"
   ]
  },
  {
   "cell_type": "code",
   "execution_count": null,
   "metadata": {
    "deletable": false,
    "nbgrader": {
     "cell_type": "code",
     "checksum": "1c5fc1838f3adb6952868d3531cbe1b6",
     "grade": false,
     "grade_id": "cell-4770d75e12811ba2",
     "locked": false,
     "schema_version": 3,
     "solution": true
    }
   },
   "outputs": [],
   "source": [
    "# your code here\n",
    "raise NotImplementedError"
   ]
  },
  {
   "cell_type": "code",
   "execution_count": null,
   "metadata": {
    "deletable": false,
    "editable": false,
    "nbgrader": {
     "cell_type": "code",
     "checksum": "e7db8de2f8fe0baf489210b369ef0732",
     "grade": true,
     "grade_id": "cell-927ef1b1abe0452a",
     "locked": true,
     "points": 3,
     "schema_version": 3,
     "solution": false
    }
   },
   "outputs": [],
   "source": [
    "from hashlib import sha1\n",
    "assert sha1(str(type(answer1_3)).encode(\"utf-8\")+b\"192dd\").hexdigest() == \"c22b7e131d7091f92de118d328cf99ebfc373e56\", \"type of answer1_3 is not str. answer1_3 should be an str\"\n",
    "assert sha1(str(len(answer1_3)).encode(\"utf-8\")+b\"192dd\").hexdigest() == \"426e383fda7dfde77b6cbef2a70be0047a593331\", \"length of answer1_3 is not correct\"\n",
    "assert sha1(str(answer1_3.lower()).encode(\"utf-8\")+b\"192dd\").hexdigest() == \"04f0ffa0d0870e9e4d9a8bf7bb1ed255f9165a52\", \"value of answer1_3 is not correct\"\n",
    "assert sha1(str(answer1_3).encode(\"utf-8\")+b\"192dd\").hexdigest() == \"11394ec2da0fa66e3dd679f582c3d6024557dc1a\", \"correct string value of answer1_3 but incorrect case of letters\"\n",
    "\n",
    "print('Success!')"
   ]
  },
  {
   "cell_type": "markdown",
   "metadata": {
    "deletable": false,
    "editable": false,
    "nbgrader": {
     "cell_type": "markdown",
     "checksum": "b816acaf0886f8ad88d6839848de4920",
     "grade": false,
     "grade_id": "cell-042f2da9a72d7533",
     "locked": true,
     "schema_version": 3,
     "solution": false,
     "task": false
    }
   },
   "source": [
    "We will now compute the distance between the first and second observation in the breast cancer dataset using the explanatory variables/predictors `Symmetry` and `Radius`. Recall we can calculate the distance between two points using the following formula:\n",
    "\n",
    "$$Distance = \\sqrt{(a_x -b_x)^2 + (a_y - b_y)^2}$$"
   ]
  },
  {
   "cell_type": "markdown",
   "metadata": {
    "deletable": false,
    "editable": false,
    "nbgrader": {
     "cell_type": "markdown",
     "checksum": "4cf4a2567d60db9b6e57ecae5c36dd89",
     "grade": false,
     "grade_id": "cell-6c27f7d3e70cb8f5",
     "locked": true,
     "schema_version": 3,
     "solution": false
    }
   },
   "source": [
    "**Question 1.4** \n",
    "<br> {points: 1}\n",
    "\n",
    "First, extract the coordinates for the two observations and assign them to objects called: \n",
    "\n",
    "- `ax` (Symmetry value for the first row)\n",
    "- `ay` (Radius value for the first row)\n",
    "- `bx` (Symmetry value for the second row)\n",
    "- `by` (Radius value for the second row).\n",
    "\n",
    "*Scaffolding for `ax` is given*."
   ]
  },
  {
   "cell_type": "code",
   "execution_count": null,
   "metadata": {
    "deletable": false,
    "nbgrader": {
     "cell_type": "code",
     "checksum": "65af1e8f6ad8346b360212ed6b3a3056",
     "grade": false,
     "grade_id": "cell-9aa7e3751578c8c5",
     "locked": false,
     "schema_version": 3,
     "solution": true
    }
   },
   "outputs": [],
   "source": [
    "# ax = cancer.loc[0, \"Symmetry\"] # selecting the first observation from cancer and pulling the value from the Symmetry column as a numeric value only\n",
    "\n",
    "# your code here\n",
    "raise NotImplementedError"
   ]
  },
  {
   "cell_type": "code",
   "execution_count": null,
   "metadata": {
    "deletable": false,
    "editable": false,
    "nbgrader": {
     "cell_type": "code",
     "checksum": "b754eab77011e9d6cb16b1a7c64978ca",
     "grade": true,
     "grade_id": "cell-9117ab916552d6a6",
     "locked": true,
     "points": 1,
     "schema_version": 3,
     "solution": false
    }
   },
   "outputs": [],
   "source": [
    "from hashlib import sha1\n",
    "assert sha1(str(type(ax)).encode(\"utf-8\")+b\"32651\").hexdigest() == \"1f22f15027a2de0bde9fb0d308e055facfbf3048\", \"type of ax is not correct\"\n",
    "assert sha1(str(ax).encode(\"utf-8\")+b\"32651\").hexdigest() == \"5e66f41a61031f51d3ca5bde161a049f73fa0832\", \"value of ax is not correct\"\n",
    "\n",
    "assert sha1(str(type(ay)).encode(\"utf-8\")+b\"32652\").hexdigest() == \"7d58a16b2f107511fcc0771f2dc9a98df92f9b84\", \"type of ay is not correct\"\n",
    "assert sha1(str(ay).encode(\"utf-8\")+b\"32652\").hexdigest() == \"099e4ade255d067438bd67328df19295f3d8a168\", \"value of ay is not correct\"\n",
    "\n",
    "assert sha1(str(type(bx)).encode(\"utf-8\")+b\"32653\").hexdigest() == \"f14665564fd3232c8dccb01df0948cedc3e1c0f3\", \"type of bx is not correct\"\n",
    "assert sha1(str(bx).encode(\"utf-8\")+b\"32653\").hexdigest() == \"1b41f3e916d32900d08be174627a8d4acd86af3d\", \"value of bx is not correct\"\n",
    "\n",
    "assert sha1(str(type(by)).encode(\"utf-8\")+b\"32654\").hexdigest() == \"29d2aff41f6f3cdc36a9130065e1f2c3da808166\", \"type of by is not correct\"\n",
    "assert sha1(str(by).encode(\"utf-8\")+b\"32654\").hexdigest() == \"cff9ad44834cf4ef678d982ebb2749462652e5f0\", \"value of by is not correct\"\n",
    "\n",
    "print('Success!')"
   ]
  },
  {
   "cell_type": "markdown",
   "metadata": {
    "deletable": false,
    "editable": false,
    "nbgrader": {
     "cell_type": "markdown",
     "checksum": "a3c4cd0a0e84143515031f80d130402e",
     "grade": false,
     "grade_id": "cell-d3cdd3053b1b28f3",
     "locked": true,
     "schema_version": 3,
     "solution": false
    }
   },
   "source": [
    "**Question 1.5**\n",
    "<br> {points: 1}\n",
    "\n",
    "Plug the coordinates into the distance equation. Hint: `**` is the exponent symbol in Python.\n",
    "\n",
    "*Assign your answer to an object called `answer1_5`.*\n",
    "\n",
    "Fill in the `___` in the cell below. "
   ]
  },
  {
   "cell_type": "code",
   "execution_count": null,
   "metadata": {
    "deletable": false,
    "nbgrader": {
     "cell_type": "code",
     "checksum": "809581cf16d27f472328be640c3210af",
     "grade": false,
     "grade_id": "cell-df5b6355c3c1fb5e",
     "locked": false,
     "schema_version": 3,
     "solution": true
    }
   },
   "outputs": [],
   "source": [
    "# ___ = ((___ - ___)**___ + (___ - ___)**___)**___\n",
    "\n",
    "# your code here\n",
    "raise NotImplementedError\n",
    "answer1_5"
   ]
  },
  {
   "cell_type": "code",
   "execution_count": null,
   "metadata": {
    "deletable": false,
    "editable": false,
    "nbgrader": {
     "cell_type": "code",
     "checksum": "464b0d538d3412f10963d23a2bc661c4",
     "grade": true,
     "grade_id": "cell-3d5f251a3d1cd4d4",
     "locked": true,
     "points": 3,
     "schema_version": 3,
     "solution": false
    }
   },
   "outputs": [],
   "source": [
    "from hashlib import sha1\n",
    "assert sha1(str(type(answer1_5)).encode(\"utf-8\")+b\"81cea\").hexdigest() == \"80d7f3967b5b43f46f45380d15edafeaadd9aa6d\", \"type of answer1_5 is not correct\"\n",
    "assert sha1(str(answer1_5).encode(\"utf-8\")+b\"81cea\").hexdigest() == \"6fbac4f550b8d96c40f78c65a3078a2eaa755667\", \"value of answer1_5 is not correct\"\n",
    "\n",
    "print('Success!')"
   ]
  },
  {
   "cell_type": "markdown",
   "metadata": {
    "deletable": false,
    "editable": false,
    "nbgrader": {
     "cell_type": "markdown",
     "checksum": "3d28d6a006c2d0ba31d9d96573bd90bb",
     "grade": false,
     "grade_id": "cell-7497aeecdc763d29",
     "locked": true,
     "schema_version": 3,
     "solution": false
    }
   },
   "source": [
    "**Question 1.6**\n",
    "<br> {points: 1}\n",
    "\n",
    "Now we'll do the same thing *with 3 explanatory variables/predictors*: `Symmetry`, `Radius` and `Concavity`. Again, use the first two rows in the data set as the points you are calculating the distance between (point $a$ is row 0, and point $b$ is row 1).\n",
    "\n",
    "\n",
    "*Find the coordinates for the third variable (Concavity) and assign them to objects called `az` and `bz`. Use the scaffolding given in **Question 1.4** as a guide.*"
   ]
  },
  {
   "cell_type": "code",
   "execution_count": null,
   "metadata": {
    "deletable": false,
    "nbgrader": {
     "cell_type": "code",
     "checksum": "7b5b5c0e6c009ed6451085d65fe676a2",
     "grade": false,
     "grade_id": "cell-2eaff08bf3baaeb4",
     "locked": false,
     "schema_version": 3,
     "solution": true
    }
   },
   "outputs": [],
   "source": [
    "# your code here\n",
    "raise NotImplementedError"
   ]
  },
  {
   "cell_type": "code",
   "execution_count": null,
   "metadata": {
    "deletable": false,
    "editable": false,
    "nbgrader": {
     "cell_type": "code",
     "checksum": "b4dc7ad61cbffe2f743bcd03b4bd2219",
     "grade": true,
     "grade_id": "cell-4944fdeee6a1485f",
     "locked": true,
     "points": 1,
     "schema_version": 3,
     "solution": false
    }
   },
   "outputs": [],
   "source": [
    "from hashlib import sha1\n",
    "assert sha1(str(type(az)).encode(\"utf-8\")+b\"cef26\").hexdigest() == \"3307950086aeb61ac76111a6dd7fd52812e0707b\", \"type of az is not correct\"\n",
    "assert sha1(str(az).encode(\"utf-8\")+b\"cef26\").hexdigest() == \"3e8e5bed3e7c1c569d0cb207d27ecfced044b57c\", \"value of az is not correct\"\n",
    "\n",
    "assert sha1(str(type(bz)).encode(\"utf-8\")+b\"cef27\").hexdigest() == \"ee9869bc1528396d06e11b686e5fea34ea32c643\", \"type of bz is not correct\"\n",
    "assert sha1(str(bz).encode(\"utf-8\")+b\"cef27\").hexdigest() == \"1ab9403a22cae8a23dea0228f2f4aeb87949b030\", \"value of bz is not correct\"\n",
    "\n",
    "print('Success!')"
   ]
  },
  {
   "cell_type": "markdown",
   "metadata": {
    "deletable": false,
    "editable": false,
    "nbgrader": {
     "cell_type": "markdown",
     "checksum": "58e2d424d2135a156b4f4e61c1ad6b49",
     "grade": false,
     "grade_id": "cell-a2b93620a52ffd2b",
     "locked": true,
     "schema_version": 3,
     "solution": false
    }
   },
   "source": [
    "**Question 1.7**\n",
    "<br> {points: 1}\n",
    "\n",
    "Again, calculate the distance between the first and second observation in the breast cancer dataset using 3 explanatory variables/predictors: `Symmetry`, `Radius` and `Concavity`.\n",
    "\n",
    "*Assign your answer to an object called `answer1_7`. Use the scaffolding given to calculate `answer1_5` as a guide.*"
   ]
  },
  {
   "cell_type": "code",
   "execution_count": null,
   "metadata": {
    "deletable": false,
    "nbgrader": {
     "cell_type": "code",
     "checksum": "a3c566227c25ad5e3c0ab91cf2b04622",
     "grade": false,
     "grade_id": "cell-7cee650ed7204a98",
     "locked": false,
     "schema_version": 3,
     "solution": true
    }
   },
   "outputs": [],
   "source": [
    "# your code here\n",
    "raise NotImplementedError\n",
    "answer1_7"
   ]
  },
  {
   "cell_type": "code",
   "execution_count": null,
   "metadata": {
    "deletable": false,
    "editable": false,
    "nbgrader": {
     "cell_type": "code",
     "checksum": "7327aa33419cb733e8a9898b90102533",
     "grade": true,
     "grade_id": "cell-e5b8f9dc0531ad16",
     "locked": true,
     "points": 3,
     "schema_version": 3,
     "solution": false
    }
   },
   "outputs": [],
   "source": [
    "from hashlib import sha1\n",
    "assert sha1(str(type(round(answer1_7, 2))).encode(\"utf-8\")+b\"f198c\").hexdigest() == \"eff15a08c58efd6c23676c72d27648bcf46da228\", \"type of round(answer1_7, 2) is not correct\"\n",
    "assert sha1(str(round(answer1_7, 2)).encode(\"utf-8\")+b\"f198c\").hexdigest() == \"33c74f0f23a16e9972bb7b9cf81daf4137d91264\", \"value of round(answer1_7, 2) is not correct\"\n",
    "\n",
    "print('Success!')"
   ]
  },
  {
   "cell_type": "markdown",
   "metadata": {
    "deletable": false,
    "editable": false,
    "nbgrader": {
     "cell_type": "markdown",
     "checksum": "aa2140fad6fb71b083d2ce9b4df42f89",
     "grade": false,
     "grade_id": "cell-eab0518c6e0ee567",
     "locked": true,
     "schema_version": 3,
     "solution": false
    }
   },
   "source": [
    "**Question 1.8**\n",
    "<br> {points: 1}\n",
    "\n",
    "Let's do this without explicitly making coordinate variables!\n",
    "\n",
    "Create a pandas series of the coordinates for each point. Name one series `point_a` and the other series `point_b`. Within the series, the order of coordinates should be: `Symmetry`, `Radius`, `Concavity`.\n",
    "\n",
    "Fill in the `___` in the cell below.\n"
   ]
  },
  {
   "cell_type": "code",
   "execution_count": null,
   "metadata": {
    "deletable": false,
    "nbgrader": {
     "cell_type": "code",
     "checksum": "a452470aa0defd657fa43844d8d5cc24",
     "grade": false,
     "grade_id": "cell-78df392f18904edd",
     "locked": false,
     "schema_version": 3,
     "solution": true
    }
   },
   "outputs": [],
   "source": [
    "# This is only the scaffolding for one point (you need to make another one for row number 1)\n",
    "\n",
    "# ___ =  cancer.loc[0, [___, \"Radius\", ___]]\n",
    "\n",
    "\n",
    "# your code here\n",
    "raise NotImplementedError\n",
    "print(point_a)\n",
    "print(point_b)"
   ]
  },
  {
   "cell_type": "code",
   "execution_count": null,
   "metadata": {
    "deletable": false,
    "editable": false,
    "nbgrader": {
     "cell_type": "code",
     "checksum": "a178d4c87fa01639ecc2917f2a4306d8",
     "grade": true,
     "grade_id": "cell-c20cf45fef3d389b",
     "locked": true,
     "points": 1,
     "schema_version": 3,
     "solution": false
    }
   },
   "outputs": [],
   "source": [
    "from hashlib import sha1\n",
    "assert sha1(str(type(round(sum(point_a), 2))).encode(\"utf-8\")+b\"f3e40\").hexdigest() == \"7469d896db4c21f0066c96e60188fd82f3e26789\", \"type of round(sum(point_a), 2) is not correct\"\n",
    "assert sha1(str(round(sum(point_a), 2)).encode(\"utf-8\")+b\"f3e40\").hexdigest() == \"4fe65438541d875a78f83b05a0d8aad9cdc03542\", \"value of round(sum(point_a), 2) is not correct\"\n",
    "\n",
    "assert sha1(str(type(round(sum(point_b), 2))).encode(\"utf-8\")+b\"f3e41\").hexdigest() == \"dfd27081f3392d2d05ab01943b9ac21653d84500\", \"type of round(sum(point_b), 2) is not correct\"\n",
    "assert sha1(str(round(sum(point_b), 2)).encode(\"utf-8\")+b\"f3e41\").hexdigest() == \"a5296f79d982da1d374ee8a9ff0d8f482ed60d98\", \"value of round(sum(point_b), 2) is not correct\"\n",
    "\n",
    "print('Success!')"
   ]
  },
  {
   "cell_type": "markdown",
   "metadata": {
    "deletable": false,
    "editable": false,
    "nbgrader": {
     "cell_type": "markdown",
     "checksum": "75dc464cd9d17c8ba2fb42692eb4e56e",
     "grade": false,
     "grade_id": "cell-c5b5b0129c7b8e60",
     "locked": true,
     "schema_version": 3,
     "solution": false
    }
   },
   "source": [
    "**Question 1.9**\n",
    "<br> {points: 1}\n",
    "\n",
    "Compute the squared differences between the two series, `point_a` and `point_b`. The result should be a series of length 3 named `dif_square`. *Hint: `**` is the exponent symbol in Python.*"
   ]
  },
  {
   "cell_type": "code",
   "execution_count": null,
   "metadata": {
    "deletable": false,
    "nbgrader": {
     "cell_type": "code",
     "checksum": "0a57813061262beb93ae4f4f117800c9",
     "grade": false,
     "grade_id": "cell-8244086b2edb3999",
     "locked": false,
     "schema_version": 3,
     "solution": true
    }
   },
   "outputs": [],
   "source": [
    "# your code here\n",
    "raise NotImplementedError\n",
    "dif_square"
   ]
  },
  {
   "cell_type": "code",
   "execution_count": null,
   "metadata": {
    "deletable": false,
    "editable": false,
    "nbgrader": {
     "cell_type": "code",
     "checksum": "f0e07f98b3248a6b5da876b87d1dc978",
     "grade": true,
     "grade_id": "cell-fb099b82bbaac1f5",
     "locked": true,
     "points": 3,
     "schema_version": 3,
     "solution": false
    }
   },
   "outputs": [],
   "source": [
    "from hashlib import sha1\n",
    "assert sha1(str(type(sum(dif_square))).encode(\"utf-8\")+b\"70681\").hexdigest() == \"f70a2394d44f5f8a4be80f78641b4fb996ae4247\", \"type of sum(dif_square) is not correct\"\n",
    "assert sha1(str(sum(dif_square)).encode(\"utf-8\")+b\"70681\").hexdigest() == \"f149d38ba9e6f7578aa558f78c9c3517959ddff4\", \"value of sum(dif_square) is not correct\"\n",
    "\n",
    "print('Success!')"
   ]
  },
  {
   "cell_type": "markdown",
   "metadata": {
    "deletable": false,
    "editable": false,
    "nbgrader": {
     "cell_type": "markdown",
     "checksum": "1e273734f788c6cdecb7d7859e25b6a1",
     "grade": false,
     "grade_id": "cell-2f2f6160dfde75a1",
     "locked": true,
     "schema_version": 3,
     "solution": false
    }
   },
   "source": [
    "**Question 1.09.1**\n",
    "<br> {points: 1}\n",
    "\n",
    "Sum the squared differences between the two points, `point_a` and `point_b`. The result should be a single number named `dif_sum`. \n",
    "\n",
    "*Hint: the `sum` dataframe method in Python returns the sum of the elements in a series*"
   ]
  },
  {
   "cell_type": "code",
   "execution_count": null,
   "metadata": {
    "deletable": false,
    "nbgrader": {
     "cell_type": "code",
     "checksum": "48eca56133082aa0819ba3bbeaf8a571",
     "grade": false,
     "grade_id": "cell-86ab5cef9257a578",
     "locked": false,
     "schema_version": 3,
     "solution": true
    }
   },
   "outputs": [],
   "source": [
    "# your code here\n",
    "raise NotImplementedError\n",
    "dif_sum"
   ]
  },
  {
   "cell_type": "code",
   "execution_count": null,
   "metadata": {
    "deletable": false,
    "editable": false,
    "nbgrader": {
     "cell_type": "code",
     "checksum": "592a7643e99cc3f0ee081e31711c7a35",
     "grade": true,
     "grade_id": "cell-629beff90c931f51",
     "locked": true,
     "points": 3,
     "schema_version": 3,
     "solution": false
    }
   },
   "outputs": [],
   "source": [
    "from hashlib import sha1\n",
    "assert sha1(str(type(dif_sum)).encode(\"utf-8\")+b\"a3473\").hexdigest() == \"4538830cea59c7779bcb2aa16a18a424684bdbef\", \"type of dif_sum is not correct\"\n",
    "assert sha1(str(dif_sum).encode(\"utf-8\")+b\"a3473\").hexdigest() == \"07cd77f6673541a859280c2d89ab5d2ccad9d6e3\", \"value of dif_sum is not correct\"\n",
    "\n",
    "print('Success!')"
   ]
  },
  {
   "cell_type": "markdown",
   "metadata": {
    "deletable": false,
    "editable": false,
    "nbgrader": {
     "cell_type": "markdown",
     "checksum": "c89e70beda90ab61fc9f35b4ed7c4cda",
     "grade": false,
     "grade_id": "cell-7e182c22fa4eec69",
     "locked": true,
     "schema_version": 3,
     "solution": false
    }
   },
   "source": [
    "**Question 1.09.2**\n",
    "<br> {points: 1}\n",
    "\n",
    "Square root the sum of your squared differences. The result should be a number named `root_dif_sum`. "
   ]
  },
  {
   "cell_type": "code",
   "execution_count": null,
   "metadata": {
    "deletable": false,
    "nbgrader": {
     "cell_type": "code",
     "checksum": "9b850385ac41a93fa5c6ec15e6f3f820",
     "grade": false,
     "grade_id": "cell-660055c1546fc78c",
     "locked": false,
     "schema_version": 3,
     "solution": true
    }
   },
   "outputs": [],
   "source": [
    "# your code here\n",
    "raise NotImplementedError\n",
    "root_dif_sum"
   ]
  },
  {
   "cell_type": "code",
   "execution_count": null,
   "metadata": {
    "deletable": false,
    "editable": false,
    "nbgrader": {
     "cell_type": "code",
     "checksum": "83a35b3c1224501a2ed9320b12513e19",
     "grade": true,
     "grade_id": "cell-d144868a6cbc8b3f",
     "locked": true,
     "points": 3,
     "schema_version": 3,
     "solution": false
    }
   },
   "outputs": [],
   "source": [
    "from hashlib import sha1\n",
    "assert sha1(str(type(root_dif_sum)).encode(\"utf-8\")+b\"3110b\").hexdigest() == \"ee6eda00442436e0cc3a290b8c1299288e16874d\", \"type of root_dif_sum is not correct\"\n",
    "assert sha1(str(root_dif_sum).encode(\"utf-8\")+b\"3110b\").hexdigest() == \"fc11816984dba681433728c14ae0ea28339c5d7d\", \"value of root_dif_sum is not correct\"\n",
    "\n",
    "print('Success!')"
   ]
  },
  {
   "cell_type": "markdown",
   "metadata": {
    "deletable": false,
    "editable": false,
    "nbgrader": {
     "cell_type": "markdown",
     "checksum": "90b8cc52324383a1ef50c2fc651e3aa4",
     "grade": false,
     "grade_id": "cell-fe94f79e97960c76",
     "locked": true,
     "schema_version": 3,
     "solution": false
    }
   },
   "source": [
    "**Question 1.09.3**\n",
    "<br> {points: 1}\n",
    "\n",
    "If we have more than a few points, calculating distances as we did in the previous questions is VERY tedious. Let's use the `euclidean_distances` function from `scikit-learn` package to find the distance between the first and second observation in the breast cancer dataset using Symmetry, Radius and Concavity. \n",
    "\n",
    "Fill in the `___` in the cell below. \n",
    "\n",
    "*Assign your answer to an object called `dist_cancer_two_rows`. Note that the euclidean_distances function will return four values, one for each pair of combinations of the coordinates for the two points; we will see another example of this and describe it more in detail later in this worksheet.*"
   ]
  },
  {
   "cell_type": "code",
   "execution_count": null,
   "metadata": {
    "deletable": false,
    "nbgrader": {
     "cell_type": "code",
     "checksum": "1c645a5608af47d86c25ae1c253153e3",
     "grade": false,
     "grade_id": "cell-49a6780a9752e7d0",
     "locked": false,
     "schema_version": 3,
     "solution": true
    }
   },
   "outputs": [],
   "source": [
    "# dist_cancer_two_rows = euclidean_distances(\n",
    "#     cancer.loc[0:1, [___, \"Radius\", ___]]\n",
    "# )\n",
    "\n",
    "# your code here\n",
    "raise NotImplementedError\n",
    "dist_cancer_two_rows"
   ]
  },
  {
   "cell_type": "code",
   "execution_count": null,
   "metadata": {
    "deletable": false,
    "editable": false,
    "nbgrader": {
     "cell_type": "code",
     "checksum": "f2cfb9ac6f03ae58be558a51b1e2311f",
     "grade": true,
     "grade_id": "cell-657a6cc18a3bf8ce",
     "locked": true,
     "points": 3,
     "schema_version": 3,
     "solution": false
    }
   },
   "outputs": [],
   "source": [
    "from hashlib import sha1\n",
    "assert sha1(str(type(dist_cancer_two_rows[0, 0])).encode(\"utf-8\")+b\"1e910\").hexdigest() == \"731f85b1cde09b637c6a573f595f011e857e7620\", \"type of dist_cancer_two_rows[0, 0] is not correct\"\n",
    "assert sha1(str(dist_cancer_two_rows[0, 0]).encode(\"utf-8\")+b\"1e910\").hexdigest() == \"97b0e8e12886ffa0efcbe077a6c8c799812d06a5\", \"value of dist_cancer_two_rows[0, 0] is not correct\"\n",
    "\n",
    "assert sha1(str(type(dist_cancer_two_rows[0, 1])).encode(\"utf-8\")+b\"1e911\").hexdigest() == \"b730871489cd444c1fe2ce3854dd65c05209a18d\", \"type of dist_cancer_two_rows[0, 1] is not correct\"\n",
    "assert sha1(str(dist_cancer_two_rows[0, 1]).encode(\"utf-8\")+b\"1e911\").hexdigest() == \"fe560ad46e82f22740932923da9e324e42f388d9\", \"value of dist_cancer_two_rows[0, 1] is not correct\"\n",
    "\n",
    "assert sha1(str(type(dist_cancer_two_rows[1, 0])).encode(\"utf-8\")+b\"1e912\").hexdigest() == \"05a27c3f2dba94eb3401af56f1bb7db6ede17197\", \"type of dist_cancer_two_rows[1, 0] is not correct\"\n",
    "assert sha1(str(dist_cancer_two_rows[1, 0]).encode(\"utf-8\")+b\"1e912\").hexdigest() == \"bb7d1acf3f2770300dec0cec5468820293481d53\", \"value of dist_cancer_two_rows[1, 0] is not correct\"\n",
    "\n",
    "assert sha1(str(type(dist_cancer_two_rows[1, 1])).encode(\"utf-8\")+b\"1e913\").hexdigest() == \"69063759774dc948637592f06b150bea4c3cfba2\", \"type of dist_cancer_two_rows[1, 1] is not correct\"\n",
    "assert sha1(str(dist_cancer_two_rows[1, 1]).encode(\"utf-8\")+b\"1e913\").hexdigest() == \"87496a985f0bdcce066a1c6bf3364df6f5a90a61\", \"value of dist_cancer_two_rows[1, 1] is not correct\"\n",
    "\n",
    "print('Success!')"
   ]
  },
  {
   "cell_type": "markdown",
   "metadata": {
    "deletable": false,
    "editable": false,
    "nbgrader": {
     "cell_type": "markdown",
     "checksum": "3cc638a5f6d4382a0a3bdab3c23a849d",
     "grade": false,
     "grade_id": "cell-d2b6719023a2ec78",
     "locked": true,
     "schema_version": 3,
     "solution": false
    }
   },
   "source": [
    "**Question 1.09.4** True or False: \n",
    "<br> {points: 1}\n",
    "\n",
    "Compare `answer1_7`, `root_dif_sum`, and `dist_cancer_two_rows`. \n",
    "\n",
    "**Are they all the same value?** \n",
    "\n",
    "*Assign your answer to an object called `answer1_09_4`. Make sure the correct answer is a boolean. i.e. `True` or `False`.*"
   ]
  },
  {
   "cell_type": "code",
   "execution_count": null,
   "metadata": {
    "deletable": false,
    "nbgrader": {
     "cell_type": "code",
     "checksum": "33d70059ff697b0289b01c2e3eed073f",
     "grade": false,
     "grade_id": "cell-083ba5d559495244",
     "locked": false,
     "schema_version": 3,
     "solution": true
    }
   },
   "outputs": [],
   "source": [
    "# your code here\n",
    "raise NotImplementedError"
   ]
  },
  {
   "cell_type": "code",
   "execution_count": null,
   "metadata": {
    "deletable": false,
    "editable": false,
    "nbgrader": {
     "cell_type": "code",
     "checksum": "ed677b2342cc43ca7eb740c8e2a0a64d",
     "grade": true,
     "grade_id": "cell-15ea031e7e016f14",
     "locked": true,
     "points": 3,
     "schema_version": 3,
     "solution": false
    }
   },
   "outputs": [],
   "source": [
    "from hashlib import sha1\n",
    "assert sha1(str(type(answer1_09_4)).encode(\"utf-8\")+b\"8637\").hexdigest() == \"0a5bb53e49014286acc41d42e260622200353667\", \"type of answer1_09_4 is not bool. answer1_09_4 should be a bool\"\n",
    "assert sha1(str(answer1_09_4).encode(\"utf-8\")+b\"8637\").hexdigest() == \"62b0f58a4aa4831a4eb476b4202701b1776bbec8\", \"boolean value of answer1_09_4 is not correct\"\n",
    "\n",
    "print('Success!')"
   ]
  },
  {
   "cell_type": "markdown",
   "metadata": {
    "deletable": false,
    "editable": false,
    "nbgrader": {
     "cell_type": "markdown",
     "checksum": "adeae37fa078f7f293147a4a496d5632",
     "grade": false,
     "grade_id": "cell-098264eb921f8d92",
     "locked": true,
     "schema_version": 3,
     "solution": false
    }
   },
   "source": [
    "## 2. Classification - A Simple Example Done Manually\n",
    "\n",
    "**Question 2.0.0**\n",
    "<br> {points: 1}\n",
    "\n",
    "Let's take a random sample of 5 observations from the breast cancer dataset using the `sample` dataframe method. To make this random sample reproducible, we will use `random_state=20` inside the `sample` function. This means that the random number generator will start at the same point each time when we run the code and we will always get back the same random samples. \n",
    "\n",
    "We will focus on the predictors Symmetry and Radius only. Thus, we will need to select the columns `Symmetry` and `Radius` and `Class`. Save these 5 rows and 3 columns to a data frame named `small_sample`.\n",
    "\n",
    "Fill in the `___` in the scaffolding provided below."
   ]
  },
  {
   "cell_type": "code",
   "execution_count": null,
   "metadata": {
    "deletable": false,
    "nbgrader": {
     "cell_type": "code",
     "checksum": "feaae4b62a0821cfc40c706244bcc71f",
     "grade": false,
     "grade_id": "cell-42f7c13ee9d9b055",
     "locked": false,
     "schema_version": 3,
     "solution": true,
     "task": false
    }
   },
   "outputs": [],
   "source": [
    "# ___ = cancer.sample(5, random_state=20)[[___, ___, ___]]\n",
    "\n",
    "# your code here\n",
    "raise NotImplementedError\n",
    "small_sample"
   ]
  },
  {
   "cell_type": "code",
   "execution_count": null,
   "metadata": {
    "deletable": false,
    "editable": false,
    "nbgrader": {
     "cell_type": "code",
     "checksum": "d91a39efbc6f4a83a1244fe4ee3be64c",
     "grade": true,
     "grade_id": "cell-48197ca917cfaeb9",
     "locked": true,
     "points": 1,
     "schema_version": 3,
     "solution": false,
     "task": false
    }
   },
   "outputs": [],
   "source": [
    "from hashlib import sha1\n",
    "assert sha1(str(type(small_sample is None)).encode(\"utf-8\")+b\"d302a\").hexdigest() == \"36105f2046e1487e4b54e2a1bc8a2b3fcb444ba0\", \"type of small_sample is None is not bool. small_sample is None should be a bool\"\n",
    "assert sha1(str(small_sample is None).encode(\"utf-8\")+b\"d302a\").hexdigest() == \"734e0c4c615e95e0e5830a2cea4ad5b55884ed60\", \"boolean value of small_sample is None is not correct\"\n",
    "\n",
    "assert sha1(str(type(small_sample)).encode(\"utf-8\")+b\"d302b\").hexdigest() == \"3e6c30ad11a7369a29f1275b53f7e7a81c5fdf3c\", \"type of type(small_sample) is not correct\"\n",
    "\n",
    "assert sha1(str(type(small_sample.shape)).encode(\"utf-8\")+b\"d302c\").hexdigest() == \"5f663aba53527d6031a1cdf9575c0d43b198f3b4\", \"type of small_sample.shape is not tuple. small_sample.shape should be a tuple\"\n",
    "assert sha1(str(len(small_sample.shape)).encode(\"utf-8\")+b\"d302c\").hexdigest() == \"8fe51322cedf91523edc7359420871643d75dd1c\", \"length of small_sample.shape is not correct\"\n",
    "assert sha1(str(sorted(map(str, small_sample.shape))).encode(\"utf-8\")+b\"d302c\").hexdigest() == \"d103c4e19dd1f877e3f722f135c15b940f03ec97\", \"values of small_sample.shape are not correct\"\n",
    "assert sha1(str(small_sample.shape).encode(\"utf-8\")+b\"d302c\").hexdigest() == \"bff260b96936cbbb6ec86ca3b9f68263575c8f57\", \"order of elements of small_sample.shape is not correct\"\n",
    "\n",
    "assert sha1(str(type(\"Symmetry\" in small_sample.columns)).encode(\"utf-8\")+b\"d302d\").hexdigest() == \"bf45914311432bcdf3d6b5b7bb548b695cb44165\", \"type of \\\"Symmetry\\\" in small_sample.columns is not bool. \\\"Symmetry\\\" in small_sample.columns should be a bool\"\n",
    "assert sha1(str(\"Symmetry\" in small_sample.columns).encode(\"utf-8\")+b\"d302d\").hexdigest() == \"315511158546be50c8dd869e265773ac96263061\", \"boolean value of \\\"Symmetry\\\" in small_sample.columns is not correct\"\n",
    "\n",
    "assert sha1(str(type(\"Radius\" in small_sample.columns)).encode(\"utf-8\")+b\"d302e\").hexdigest() == \"902e68aa8790e58afe05b4e08c7edd36cef70163\", \"type of \\\"Radius\\\" in small_sample.columns is not bool. \\\"Radius\\\" in small_sample.columns should be a bool\"\n",
    "assert sha1(str(\"Radius\" in small_sample.columns).encode(\"utf-8\")+b\"d302e\").hexdigest() == \"3164d11f3d282ec79d43ff200276777cbe948e4a\", \"boolean value of \\\"Radius\\\" in small_sample.columns is not correct\"\n",
    "\n",
    "assert sha1(str(type(\"Class\" in small_sample.columns)).encode(\"utf-8\")+b\"d302f\").hexdigest() == \"f9bedb139a8abaf38e63f884aa86de7cb55fb8ce\", \"type of \\\"Class\\\" in small_sample.columns is not bool. \\\"Class\\\" in small_sample.columns should be a bool\"\n",
    "assert sha1(str(\"Class\" in small_sample.columns).encode(\"utf-8\")+b\"d302f\").hexdigest() == \"72fca9d447de6ee83d002f725218cd39b25b0fe2\", \"boolean value of \\\"Class\\\" in small_sample.columns is not correct\"\n",
    "\n",
    "print('Success!')"
   ]
  },
  {
   "cell_type": "markdown",
   "metadata": {
    "deletable": false,
    "editable": false,
    "nbgrader": {
     "cell_type": "markdown",
     "checksum": "bfadceb01ed2afb3951c7430e07e2ed3",
     "grade": false,
     "grade_id": "cell-d85472a31a22f709",
     "locked": true,
     "schema_version": 3,
     "solution": false,
     "task": false
    }
   },
   "source": [
    "**Question 2.0.1**\n",
    "<br> {points: 1}\n",
    "\n",
    "Finally, create a scatter plot where `Symmetry` is on the x-axis, and `Radius` is on the y-axis. Color the points by `Class`. Name your plot `small_sample_plot`.\n",
    "\n",
    "Fill in the `___` in the scaffolding provided below.\n",
    "\n",
    "As you create this plot, ensure you follow the guidelines for creating effective visualizations. In particular, note on the plot axes whether the data is standardized or not. Don't set an opacity value in this chart."
   ]
  },
  {
   "cell_type": "code",
   "execution_count": null,
   "metadata": {
    "deletable": false,
    "nbgrader": {
     "cell_type": "code",
     "checksum": "17e93be426135055d29b0bf3d5856c15",
     "grade": false,
     "grade_id": "cell-7b3aa8c412086b6a",
     "locked": false,
     "schema_version": 3,
     "solution": true
    }
   },
   "outputs": [],
   "source": [
    "# ___ = alt.Chart(___).mark_point().encode(\n",
    "#     x=___,\n",
    "#     y=___,\n",
    "#     color=___\n",
    "# )\n",
    "\n",
    "# your code here\n",
    "raise NotImplementedError\n",
    "small_sample_plot"
   ]
  },
  {
   "cell_type": "code",
   "execution_count": null,
   "metadata": {
    "deletable": false,
    "editable": false,
    "nbgrader": {
     "cell_type": "code",
     "checksum": "89a228e447a7d1731ef6d100e44367bb",
     "grade": true,
     "grade_id": "cell-c224b6ae53340848",
     "locked": true,
     "points": 1,
     "schema_version": 3,
     "solution": false
    }
   },
   "outputs": [],
   "source": [
    "from hashlib import sha1\n",
    "assert sha1(str(type(small_sample_plot is None)).encode(\"utf-8\")+b\"ec72\").hexdigest() == \"6ea091003708fa28d8176ec1ef981f06db70ce31\", \"type of small_sample_plot is None is not bool. small_sample_plot is None should be a bool\"\n",
    "assert sha1(str(small_sample_plot is None).encode(\"utf-8\")+b\"ec72\").hexdigest() == \"2e5dafc9f3957af6dbe8749a3c954f80b3def855\", \"boolean value of small_sample_plot is None is not correct\"\n",
    "\n",
    "assert sha1(str(type(sum(small_sample_plot.data.Symmetry))).encode(\"utf-8\")+b\"ec73\").hexdigest() == \"a5ddc2e4e1dd2a7e1eb432b525efb624404fb39c\", \"type of sum(small_sample_plot.data.Symmetry) is not float. Please make sure it is float and not np.float64, etc. You can cast your value into a float using float()\"\n",
    "assert sha1(str(round(sum(small_sample_plot.data.Symmetry), 2)).encode(\"utf-8\")+b\"ec73\").hexdigest() == \"59e1204521923517aaa91c747b52e4f147fedcf8\", \"value of sum(small_sample_plot.data.Symmetry) is not correct (rounded to 2 decimal places)\"\n",
    "\n",
    "assert sha1(str(type(small_sample_plot.mark)).encode(\"utf-8\")+b\"ec74\").hexdigest() == \"a82e9c63fb6197fabc6893813804bb9fbe9c504e\", \"type of small_sample_plot.mark is not str. small_sample_plot.mark should be an str\"\n",
    "assert sha1(str(len(small_sample_plot.mark)).encode(\"utf-8\")+b\"ec74\").hexdigest() == \"900807d2b4fa4c95bf6cfc2506fbbc84e76aa937\", \"length of small_sample_plot.mark is not correct\"\n",
    "assert sha1(str(small_sample_plot.mark.lower()).encode(\"utf-8\")+b\"ec74\").hexdigest() == \"5800021557653216e215be8c19fc2a3106b6c6a9\", \"value of small_sample_plot.mark is not correct\"\n",
    "assert sha1(str(small_sample_plot.mark).encode(\"utf-8\")+b\"ec74\").hexdigest() == \"5800021557653216e215be8c19fc2a3106b6c6a9\", \"correct string value of small_sample_plot.mark but incorrect case of letters\"\n",
    "\n",
    "assert sha1(str(type(small_sample_plot.encoding.color['shorthand'])).encode(\"utf-8\")+b\"ec75\").hexdigest() == \"9e39fe7ac2103601e8eafa3aee712308a38e7c45\", \"type of small_sample_plot.encoding.color['shorthand'] is not str. small_sample_plot.encoding.color['shorthand'] should be an str\"\n",
    "assert sha1(str(len(small_sample_plot.encoding.color['shorthand'])).encode(\"utf-8\")+b\"ec75\").hexdigest() == \"5a9f4e4de6ed97f7836ffe86141ad66451d567fb\", \"length of small_sample_plot.encoding.color['shorthand'] is not correct\"\n",
    "assert sha1(str(small_sample_plot.encoding.color['shorthand'].lower()).encode(\"utf-8\")+b\"ec75\").hexdigest() == \"28851a6baff6d9fa6ebd7175baacb1c3a28cbd28\", \"value of small_sample_plot.encoding.color['shorthand'] is not correct\"\n",
    "assert sha1(str(small_sample_plot.encoding.color['shorthand']).encode(\"utf-8\")+b\"ec75\").hexdigest() == \"25a3c4d0396b73e13e2b189b0d1b6eba9914aba3\", \"correct string value of small_sample_plot.encoding.color['shorthand'] but incorrect case of letters\"\n",
    "\n",
    "assert sha1(str(type(small_sample_plot.encoding.x['shorthand'])).encode(\"utf-8\")+b\"ec76\").hexdigest() == \"5b7f94dd0406e2f26eb45dfcdf57741f28d2df95\", \"type of small_sample_plot.encoding.x['shorthand'] is not str. small_sample_plot.encoding.x['shorthand'] should be an str\"\n",
    "assert sha1(str(len(small_sample_plot.encoding.x['shorthand'])).encode(\"utf-8\")+b\"ec76\").hexdigest() == \"f194bbc46edadb84987695ddb4f1400d288c4f63\", \"length of small_sample_plot.encoding.x['shorthand'] is not correct\"\n",
    "assert sha1(str(small_sample_plot.encoding.x['shorthand'].lower()).encode(\"utf-8\")+b\"ec76\").hexdigest() == \"59069b2594fb52963b45895a44f828d2156266c5\", \"value of small_sample_plot.encoding.x['shorthand'] is not correct\"\n",
    "assert sha1(str(small_sample_plot.encoding.x['shorthand']).encode(\"utf-8\")+b\"ec76\").hexdigest() == \"aa4ed72059e3c3822a9420a5330256bc8503fbc4\", \"correct string value of small_sample_plot.encoding.x['shorthand'] but incorrect case of letters\"\n",
    "\n",
    "assert sha1(str(type(small_sample_plot.encoding.y['shorthand'])).encode(\"utf-8\")+b\"ec77\").hexdigest() == \"8d8b11a250c424e757146ae38c45a53d8a7a9a82\", \"type of small_sample_plot.encoding.y['shorthand'] is not str. small_sample_plot.encoding.y['shorthand'] should be an str\"\n",
    "assert sha1(str(len(small_sample_plot.encoding.y['shorthand'])).encode(\"utf-8\")+b\"ec77\").hexdigest() == \"afdb03a260f02df6f491aa14833a17c929ffb867\", \"length of small_sample_plot.encoding.y['shorthand'] is not correct\"\n",
    "assert sha1(str(small_sample_plot.encoding.y['shorthand'].lower()).encode(\"utf-8\")+b\"ec77\").hexdigest() == \"b20d422ef0e84b4abde374cee0454a4fcb1d6c43\", \"value of small_sample_plot.encoding.y['shorthand'] is not correct\"\n",
    "assert sha1(str(small_sample_plot.encoding.y['shorthand']).encode(\"utf-8\")+b\"ec77\").hexdigest() == \"84689b7e7eb1e4708948acd344618a2386e2bdc8\", \"correct string value of small_sample_plot.encoding.y['shorthand'] but incorrect case of letters\"\n",
    "\n",
    "assert sha1(str(type(isinstance(small_sample_plot.encoding.x['title'], str))).encode(\"utf-8\")+b\"ec78\").hexdigest() == \"ccea7c9dc50ec9437966a917af97db89d738f7b0\", \"type of isinstance(small_sample_plot.encoding.x['title'], str) is not bool. isinstance(small_sample_plot.encoding.x['title'], str) should be a bool\"\n",
    "assert sha1(str(isinstance(small_sample_plot.encoding.x['title'], str)).encode(\"utf-8\")+b\"ec78\").hexdigest() == \"8a52586734dd6931c8bbe573feb32b241d302663\", \"boolean value of isinstance(small_sample_plot.encoding.x['title'], str) is not correct\"\n",
    "\n",
    "assert sha1(str(type(isinstance(small_sample_plot.encoding.y['title'], str))).encode(\"utf-8\")+b\"ec79\").hexdigest() == \"3c124e937ecbdf40eafa778036b0daef2dd0fb43\", \"type of isinstance(small_sample_plot.encoding.y['title'], str) is not bool. isinstance(small_sample_plot.encoding.y['title'], str) should be a bool\"\n",
    "assert sha1(str(isinstance(small_sample_plot.encoding.y['title'], str)).encode(\"utf-8\")+b\"ec79\").hexdigest() == \"f12963e43ee0e86069778c58602fc008a33bc2b6\", \"boolean value of isinstance(small_sample_plot.encoding.y['title'], str) is not correct\"\n",
    "\n",
    "assert sha1(str(type(isinstance(small_sample_plot.encoding.color['title'], str))).encode(\"utf-8\")+b\"ec7a\").hexdigest() == \"9c2018be36cd229509a2dfd27032a776b6572065\", \"type of isinstance(small_sample_plot.encoding.color['title'], str) is not bool. isinstance(small_sample_plot.encoding.color['title'], str) should be a bool\"\n",
    "assert sha1(str(isinstance(small_sample_plot.encoding.color['title'], str)).encode(\"utf-8\")+b\"ec7a\").hexdigest() == \"83933ee5019864f31209d69bd29b1d749ad0f315\", \"boolean value of isinstance(small_sample_plot.encoding.color['title'], str) is not correct\"\n",
    "\n",
    "print('Success!')"
   ]
  },
  {
   "cell_type": "markdown",
   "metadata": {
    "deletable": false,
    "editable": false,
    "nbgrader": {
     "cell_type": "markdown",
     "checksum": "da7e0fa047310c9250637948ff47c035",
     "grade": false,
     "grade_id": "cell-ea9b69d1eb8ef76c",
     "locked": true,
     "schema_version": 3,
     "solution": false
    }
   },
   "source": [
    "**Question 2.1** \n",
    "<br> {points: 1}\n",
    "\n",
    "Suppose we are interested in classifying a new observation with `Symmetry = 0.5` and `Radius = 0`, but unknown `Class`. Using the `small_sample` data frame, add another row with `Symmetry = 0.5`, `Radius = 0`, and `Class = \"unknown\"`.\n",
    "\n",
    "Fill in the `___` in the scaffolding provided below.\n",
    "\n",
    "*Assign your answer to an object called `updated_sample`.*"
   ]
  },
  {
   "cell_type": "code",
   "execution_count": null,
   "metadata": {
    "deletable": false,
    "nbgrader": {
     "cell_type": "code",
     "checksum": "2fd221a1f1b965a272afd36b831f9311",
     "grade": false,
     "grade_id": "cell-96047e4736208b46",
     "locked": false,
     "schema_version": 3,
     "solution": true
    }
   },
   "outputs": [],
   "source": [
    "# new_observation = pd.DataFrame({\"_____\": [_____], \"_____\": [_____], \"_____\": [_____]})\n",
    "# ______ = pd.concat([_____, _____]).reset_index(drop=True)\n",
    "\n",
    "# your code here\n",
    "raise NotImplementedError\n",
    "updated_sample"
   ]
  },
  {
   "cell_type": "code",
   "execution_count": null,
   "metadata": {
    "deletable": false,
    "editable": false,
    "nbgrader": {
     "cell_type": "code",
     "checksum": "65137fae7f394ed3edc0cb9921d850c1",
     "grade": true,
     "grade_id": "cell-136ec7a4a7af2698",
     "locked": true,
     "points": 1,
     "schema_version": 3,
     "solution": false
    }
   },
   "outputs": [],
   "source": [
    "from hashlib import sha1\n",
    "assert sha1(str(type(updated_sample is None)).encode(\"utf-8\")+b\"63a8f\").hexdigest() == \"f912e8ad241f18785dbeb02cc5b75c5c45f75d05\", \"type of updated_sample is None is not bool. updated_sample is None should be a bool\"\n",
    "assert sha1(str(updated_sample is None).encode(\"utf-8\")+b\"63a8f\").hexdigest() == \"4138545a3acad28e9d4701612477afb8e98cb770\", \"boolean value of updated_sample is None is not correct\"\n",
    "\n",
    "assert sha1(str(type(updated_sample)).encode(\"utf-8\")+b\"63a90\").hexdigest() == \"5d0f898ed1d6b14f33e594fde9fc7bbc7be77977\", \"type of type(updated_sample) is not correct\"\n",
    "\n",
    "assert sha1(str(type(updated_sample.Class[5])).encode(\"utf-8\")+b\"63a91\").hexdigest() == \"1cd4de1de008519f24c1528c8718df280ae498a8\", \"type of updated_sample.Class[5] is not str. updated_sample.Class[5] should be an str\"\n",
    "assert sha1(str(len(updated_sample.Class[5])).encode(\"utf-8\")+b\"63a91\").hexdigest() == \"f8554bc540be7cc9c1f79023e31505135c7263cb\", \"length of updated_sample.Class[5] is not correct\"\n",
    "assert sha1(str(updated_sample.Class[5].lower()).encode(\"utf-8\")+b\"63a91\").hexdigest() == \"8456bb521b4eb5ca91a871546dd257d3582e5fe0\", \"value of updated_sample.Class[5] is not correct\"\n",
    "assert sha1(str(updated_sample.Class[5]).encode(\"utf-8\")+b\"63a91\").hexdigest() == \"8456bb521b4eb5ca91a871546dd257d3582e5fe0\", \"correct string value of updated_sample.Class[5] but incorrect case of letters\"\n",
    "\n",
    "assert sha1(str(type(updated_sample.shape)).encode(\"utf-8\")+b\"63a92\").hexdigest() == \"c1e8d67dd7057197b2e451953136fd88fdc7304a\", \"type of updated_sample.shape is not tuple. updated_sample.shape should be a tuple\"\n",
    "assert sha1(str(len(updated_sample.shape)).encode(\"utf-8\")+b\"63a92\").hexdigest() == \"1c28cd167e28ab145d218e27c6dc1fe68b71bf1b\", \"length of updated_sample.shape is not correct\"\n",
    "assert sha1(str(sorted(map(str, updated_sample.shape))).encode(\"utf-8\")+b\"63a92\").hexdigest() == \"dc61683c862e7aa5b4f769a8c48decc4d37669bc\", \"values of updated_sample.shape are not correct\"\n",
    "assert sha1(str(updated_sample.shape).encode(\"utf-8\")+b\"63a92\").hexdigest() == \"5243148f00d7fe409224ec3ad201609b7faaa6c5\", \"order of elements of updated_sample.shape is not correct\"\n",
    "\n",
    "assert sha1(str(type(sum(updated_sample.Radius))).encode(\"utf-8\")+b\"63a93\").hexdigest() == \"8d0f0c72861df19f0ba69d808a389c3a9f47b699\", \"type of sum(updated_sample.Radius) is not float. Please make sure it is float and not np.float64, etc. You can cast your value into a float using float()\"\n",
    "assert sha1(str(round(sum(updated_sample.Radius), 2)).encode(\"utf-8\")+b\"63a93\").hexdigest() == \"b152b066f0c8c565b1959793f13ca08722d8ffc9\", \"value of sum(updated_sample.Radius) is not correct (rounded to 2 decimal places)\"\n",
    "\n",
    "assert sha1(str(type(sum(updated_sample.Symmetry))).encode(\"utf-8\")+b\"63a94\").hexdigest() == \"b0aa6d4b14f77c07eb7d4f313b7b264720808572\", \"type of sum(updated_sample.Symmetry) is not float. Please make sure it is float and not np.float64, etc. You can cast your value into a float using float()\"\n",
    "assert sha1(str(round(sum(updated_sample.Symmetry), 2)).encode(\"utf-8\")+b\"63a94\").hexdigest() == \"15fb68a939aac396d56387529e7068c81b2532c1\", \"value of sum(updated_sample.Symmetry) is not correct (rounded to 2 decimal places)\"\n",
    "\n",
    "print('Success!')"
   ]
  },
  {
   "cell_type": "markdown",
   "metadata": {
    "deletable": false,
    "editable": false,
    "nbgrader": {
     "cell_type": "markdown",
     "checksum": "b8d1da25155061db5313d17e5a211b2f",
     "grade": false,
     "grade_id": "cell-0c2e46a6b87bc2f2",
     "locked": true,
     "schema_version": 3,
     "solution": false
    }
   },
   "source": [
    "**Question 2.2**\n",
    "<br> {points: 1}\n",
    "\n",
    "Compute the distance between each pair of the 6 observations in the `updated_sample` dataframe using the `euclidean_distances` function based on two variables: `Symmetry` and `Radius`. Fill in the `___` in the scaffolding provided below.\n",
    "\n",
    "\n",
    "*Assign your answer to an object called `dist_matrix`.*"
   ]
  },
  {
   "cell_type": "code",
   "execution_count": null,
   "metadata": {
    "deletable": false,
    "nbgrader": {
     "cell_type": "code",
     "checksum": "b89428711d40daba60e75347b113bb59",
     "grade": false,
     "grade_id": "cell-e08fcfbf45d4e190",
     "locked": false,
     "schema_version": 3,
     "solution": true
    }
   },
   "outputs": [],
   "source": [
    "# dist_matrix = pd.DataFrame(___(updated_sample[[___, ___]]))\n",
    "\n",
    "# your code here\n",
    "raise NotImplementedError\n",
    "dist_matrix"
   ]
  },
  {
   "cell_type": "code",
   "execution_count": null,
   "metadata": {
    "deletable": false,
    "editable": false,
    "nbgrader": {
     "cell_type": "code",
     "checksum": "359e8b427d2261e539172bd61ccc2940",
     "grade": true,
     "grade_id": "cell-a8cd3d77bfcea0b0",
     "locked": true,
     "points": 1,
     "schema_version": 3,
     "solution": false
    }
   },
   "outputs": [],
   "source": [
    "from hashlib import sha1\n",
    "assert sha1(str(type(dist_matrix is None)).encode(\"utf-8\")+b\"f1600\").hexdigest() == \"627d060490109c77bd779cb9e95b0c68036c812b\", \"type of dist_matrix is None is not bool. dist_matrix is None should be a bool\"\n",
    "assert sha1(str(dist_matrix is None).encode(\"utf-8\")+b\"f1600\").hexdigest() == \"a171a0896e31a3ce91525bdc015d52ea79dbe284\", \"boolean value of dist_matrix is None is not correct\"\n",
    "\n",
    "assert sha1(str(type(dist_matrix)).encode(\"utf-8\")+b\"f1601\").hexdigest() == \"10968d6906c926d692511390f0232726333366e6\", \"type of type(dist_matrix) is not correct\"\n",
    "\n",
    "assert sha1(str(type(dist_matrix.shape)).encode(\"utf-8\")+b\"f1602\").hexdigest() == \"1c25efba88f200a7e9193196996808e42fc35b33\", \"type of dist_matrix.shape is not tuple. dist_matrix.shape should be a tuple\"\n",
    "assert sha1(str(len(dist_matrix.shape)).encode(\"utf-8\")+b\"f1602\").hexdigest() == \"e0d849dd57f0ac1f4e1161dcb710ce15a4aca5ed\", \"length of dist_matrix.shape is not correct\"\n",
    "assert sha1(str(sorted(map(str, dist_matrix.shape))).encode(\"utf-8\")+b\"f1602\").hexdigest() == \"a607b4975580a68f9535a90a3ff8d75028005422\", \"values of dist_matrix.shape are not correct\"\n",
    "assert sha1(str(dist_matrix.shape).encode(\"utf-8\")+b\"f1602\").hexdigest() == \"dc39d4872e8dc8c03a8eb6c6e9e83b142aa90122\", \"order of elements of dist_matrix.shape is not correct\"\n",
    "\n",
    "assert sha1(str(type(sum(dist_matrix.iloc[0]))).encode(\"utf-8\")+b\"f1603\").hexdigest() == \"6e7e2d52109733b70724d905e0a7f809a8b923a6\", \"type of sum(dist_matrix.iloc[0]) is not float. Please make sure it is float and not np.float64, etc. You can cast your value into a float using float()\"\n",
    "assert sha1(str(round(sum(dist_matrix.iloc[0]), 2)).encode(\"utf-8\")+b\"f1603\").hexdigest() == \"9f090fe37c54a014b2528edec1949d5eac3a2d78\", \"value of sum(dist_matrix.iloc[0]) is not correct (rounded to 2 decimal places)\"\n",
    "\n",
    "assert sha1(str(type(sum(dist_matrix.iloc[1]))).encode(\"utf-8\")+b\"f1604\").hexdigest() == \"103f6f3f5c5d0c3e8834c7eab3e6fe434c3398b8\", \"type of sum(dist_matrix.iloc[1]) is not float. Please make sure it is float and not np.float64, etc. You can cast your value into a float using float()\"\n",
    "assert sha1(str(round(sum(dist_matrix.iloc[1]), 2)).encode(\"utf-8\")+b\"f1604\").hexdigest() == \"49506abce6dfb47030a6af475a52ebb7eb6aac88\", \"value of sum(dist_matrix.iloc[1]) is not correct (rounded to 2 decimal places)\"\n",
    "\n",
    "assert sha1(str(type(sum(dist_matrix.iloc[4]))).encode(\"utf-8\")+b\"f1605\").hexdigest() == \"7be096b0b58ce68439ca9331aac4c0890ac351a1\", \"type of sum(dist_matrix.iloc[4]) is not float. Please make sure it is float and not np.float64, etc. You can cast your value into a float using float()\"\n",
    "assert sha1(str(round(sum(dist_matrix.iloc[4]), 2)).encode(\"utf-8\")+b\"f1605\").hexdigest() == \"70660e2b811d494704b5b63bc00335a24f5e7e47\", \"value of sum(dist_matrix.iloc[4]) is not correct (rounded to 2 decimal places)\"\n",
    "\n",
    "assert sha1(str(type(sum(dist_matrix.iloc[5]))).encode(\"utf-8\")+b\"f1606\").hexdigest() == \"e8d7e8545962d1bed827aec9673a59e4cafb3575\", \"type of sum(dist_matrix.iloc[5]) is not float. Please make sure it is float and not np.float64, etc. You can cast your value into a float using float()\"\n",
    "assert sha1(str(round(sum(dist_matrix.iloc[5]), 2)).encode(\"utf-8\")+b\"f1606\").hexdigest() == \"31d3450661df48a6063b8a0d0f8aa7ac281bcf45\", \"value of sum(dist_matrix.iloc[5]) is not correct (rounded to 2 decimal places)\"\n",
    "\n",
    "print('Success!')"
   ]
  },
  {
   "cell_type": "markdown",
   "metadata": {
    "deletable": false,
    "editable": false,
    "nbgrader": {
     "cell_type": "markdown",
     "checksum": "9c396e6ffae91d510f638e93f9440221",
     "grade": false,
     "grade_id": "cell-aba0edb4c4788627",
     "locked": true,
     "schema_version": 3,
     "solution": false
    }
   },
   "source": [
    "**Question 2.3** Multiple Choice:\n",
    "<br> {points: 1}\n",
    "\n",
    "In the table above, the row and column numbers reflect the row number from the data frame the `euclidean_distances` function was applied to. The values in `dist_matrix` are the distances between the points of the row and column number. For example, the distance between the point 2 and point 4 is 2.444209. And the distance between point 3 and point 3 (the same point) is 0.\n",
    "\n",
    "The diagonal is all zeros since the distance between a point and itself is always zero. Each pairwise distance value occurs two times in the table, once above and once below the diagonal of zeros, so technically it would be enough if we saved the diagonal plus either the values above or below, but here we keep all of them because it fits the table format nicely.\n",
    "\n",
    "**Which observation is the nearest to our new point?**\n",
    "\n",
    "*Assign your answer to an object called `answer2_3`. Make sure your answer is a number."
   ]
  },
  {
   "cell_type": "code",
   "execution_count": null,
   "metadata": {
    "deletable": false,
    "nbgrader": {
     "cell_type": "code",
     "checksum": "10c3bcc9b0db2d4b3fb2ee608a2f834e",
     "grade": false,
     "grade_id": "cell-bdbdb888f697f310",
     "locked": false,
     "schema_version": 3,
     "solution": true
    }
   },
   "outputs": [],
   "source": [
    "# your code here\n",
    "raise NotImplementedError"
   ]
  },
  {
   "cell_type": "code",
   "execution_count": null,
   "metadata": {
    "deletable": false,
    "editable": false,
    "nbgrader": {
     "cell_type": "code",
     "checksum": "70a92b5d06a310e0028aee49a55f135f",
     "grade": true,
     "grade_id": "cell-371a2959d06316e2",
     "locked": true,
     "points": 3,
     "schema_version": 3,
     "solution": false
    }
   },
   "outputs": [],
   "source": [
    "from hashlib import sha1\n",
    "assert sha1(str(type(answer2_3)).encode(\"utf-8\")+b\"82534\").hexdigest() == \"ab8ae573f769467e4d9fa25c305ee555e6927b0c\", \"type of answer2_3 is not int. Please make sure it is int and not np.int64, etc. You can cast your value into an int using int()\"\n",
    "assert sha1(str(answer2_3).encode(\"utf-8\")+b\"82534\").hexdigest() == \"bf25d1aa852ab2185b4b437c852a2ff4d62c7f27\", \"value of answer2_3 is not correct\"\n",
    "\n",
    "print('Success!')"
   ]
  },
  {
   "cell_type": "markdown",
   "metadata": {
    "deletable": false,
    "editable": false,
    "nbgrader": {
     "cell_type": "markdown",
     "checksum": "7b692e8014baae67bc6807ff850b719c",
     "grade": false,
     "grade_id": "cell-d2210381e32e3b13",
     "locked": true,
     "schema_version": 3,
     "solution": false
    }
   },
   "source": [
    "**Question 2.4** Multiple Choice: \n",
    "<br> {points: 1}\n",
    "\n",
    "If we use the K-nearest neighbour classification algorithm with K = 1 to classify the new observation using your answers to **Questions 2.2 & 2.3**, is the new data point predicted to be benign or malignant?\n",
    "\n",
    "*Assign your answer to an object called `answer2_4`. Make sure the correct answer is written fully as either \"Benign\" or \"Malignant\". Remember to surround your answer with quotation marks.* "
   ]
  },
  {
   "cell_type": "code",
   "execution_count": null,
   "metadata": {
    "deletable": false,
    "nbgrader": {
     "cell_type": "code",
     "checksum": "e9019b11b6b8c9f74d38162fd941c18f",
     "grade": false,
     "grade_id": "cell-22366d4a160c0c16",
     "locked": false,
     "schema_version": 3,
     "solution": true
    }
   },
   "outputs": [],
   "source": [
    "# your code here\n",
    "raise NotImplementedError"
   ]
  },
  {
   "cell_type": "code",
   "execution_count": null,
   "metadata": {
    "deletable": false,
    "editable": false,
    "nbgrader": {
     "cell_type": "code",
     "checksum": "0dc984737ea50b496195bc105a04e8ff",
     "grade": true,
     "grade_id": "cell-bf715d3502c96d7e",
     "locked": true,
     "points": 3,
     "schema_version": 3,
     "solution": false
    }
   },
   "outputs": [],
   "source": [
    "from hashlib import sha1\n",
    "assert sha1(str(type(answer2_4)).encode(\"utf-8\")+b\"7c755\").hexdigest() == \"5c51221fe041156e423f38bd3cefadeb88ee0c49\", \"type of answer2_4 is not str. answer2_4 should be an str\"\n",
    "assert sha1(str(len(answer2_4)).encode(\"utf-8\")+b\"7c755\").hexdigest() == \"d4504fb9530371871bfc36e4abbbdbbddfb13483\", \"length of answer2_4 is not correct\"\n",
    "assert sha1(str(answer2_4.lower()).encode(\"utf-8\")+b\"7c755\").hexdigest() == \"d145d9d06134b6bace45fed6257b4a5a717e025b\", \"value of answer2_4 is not correct\"\n",
    "assert sha1(str(answer2_4).encode(\"utf-8\")+b\"7c755\").hexdigest() == \"de3e417b356a359dc7ef8f54be904b3e6b668855\", \"correct string value of answer2_4 but incorrect case of letters\"\n",
    "\n",
    "print('Success!')"
   ]
  },
  {
   "cell_type": "markdown",
   "metadata": {
    "deletable": false,
    "editable": false,
    "nbgrader": {
     "cell_type": "markdown",
     "checksum": "ea0850f0241b59a478d23c49767d41cd",
     "grade": false,
     "grade_id": "cell-066b94daf2bb2b53",
     "locked": true,
     "schema_version": 3,
     "solution": false
    }
   },
   "source": [
    "**Question 2.5** Multiple Choice:\n",
    "<br> {points: 1}\n",
    "\n",
    "Using your answers to **Questions 2.2 & 2.3**, what are the three closest observations to your new point?\n",
    "\n",
    "A. 1, 3, 2\n",
    "\n",
    "B. 0, 1, 3\n",
    "\n",
    "C. 5, 2, 4\n",
    "\n",
    "D. 3, 4, 2\n",
    "\n",
    "*Assign your answer to an object called `answer2_5`. Make sure the correct answer is an uppercase letter. Remember to surround your answer with quotation marks (e.g. \"F\").*"
   ]
  },
  {
   "cell_type": "code",
   "execution_count": null,
   "metadata": {
    "deletable": false,
    "nbgrader": {
     "cell_type": "code",
     "checksum": "0660932897a5435430dabc3908249f22",
     "grade": false,
     "grade_id": "cell-559773dc29d9781f",
     "locked": false,
     "schema_version": 3,
     "solution": true
    }
   },
   "outputs": [],
   "source": [
    "# your code here\n",
    "raise NotImplementedError"
   ]
  },
  {
   "cell_type": "code",
   "execution_count": null,
   "metadata": {
    "deletable": false,
    "editable": false,
    "nbgrader": {
     "cell_type": "code",
     "checksum": "707c1a3fc60f95b7031340bcdf8e47b9",
     "grade": true,
     "grade_id": "cell-377f6fc0e8af55a9",
     "locked": true,
     "points": 3,
     "schema_version": 3,
     "solution": false
    }
   },
   "outputs": [],
   "source": [
    "from hashlib import sha1\n",
    "assert sha1(str(type(answer2_5)).encode(\"utf-8\")+b\"44a0e\").hexdigest() == \"c1473050b81d4dc5965d112162398eb89d3a2795\", \"type of answer2_5 is not str. answer2_5 should be an str\"\n",
    "assert sha1(str(len(answer2_5)).encode(\"utf-8\")+b\"44a0e\").hexdigest() == \"4e478acef365912cb300913c4085c51c315a6936\", \"length of answer2_5 is not correct\"\n",
    "assert sha1(str(answer2_5.lower()).encode(\"utf-8\")+b\"44a0e\").hexdigest() == \"81c38878a93515dae56ca44549c530253658eb95\", \"value of answer2_5 is not correct\"\n",
    "assert sha1(str(answer2_5).encode(\"utf-8\")+b\"44a0e\").hexdigest() == \"e39a3081dfb44a8bdd74f14dbb2d0996b5e27f8c\", \"correct string value of answer2_5 but incorrect case of letters\"\n",
    "\n",
    "print('Success!')"
   ]
  },
  {
   "cell_type": "markdown",
   "metadata": {
    "deletable": false,
    "editable": false,
    "nbgrader": {
     "cell_type": "markdown",
     "checksum": "dcfdc0e4c35f32a74cdf8f14deab2299",
     "grade": false,
     "grade_id": "cell-bf7fd236053daada",
     "locked": true,
     "schema_version": 3,
     "solution": false
    }
   },
   "source": [
    "**Question 2.6** Multiple Choice: \n",
    "<br> {points: 1}\n",
    "\n",
    "We will now use the K-nearest neighbour classification algorithm with K = 3 to classify the new observation using your answers to **Questions 2.2 & 2.3**. Is the new data point predicted to be benign or malignant?\n",
    "\n",
    "*Assign your answer to an object called `answer2_6`. Make sure the correct answer is written fully. Remember to surround your answer with quotation marks (e.g. \"Benign\" / \"Malignant\").*"
   ]
  },
  {
   "cell_type": "code",
   "execution_count": null,
   "metadata": {
    "deletable": false,
    "nbgrader": {
     "cell_type": "code",
     "checksum": "03ade657f4654214091bf3dac2f324cd",
     "grade": false,
     "grade_id": "cell-258763f514ce8d52",
     "locked": false,
     "schema_version": 3,
     "solution": true
    }
   },
   "outputs": [],
   "source": [
    "# your code here\n",
    "raise NotImplementedError"
   ]
  },
  {
   "cell_type": "code",
   "execution_count": null,
   "metadata": {
    "deletable": false,
    "editable": false,
    "nbgrader": {
     "cell_type": "code",
     "checksum": "1e3f4be70bba7823306b35dc6733c8fc",
     "grade": true,
     "grade_id": "cell-2a8fd7a3457fb02a",
     "locked": true,
     "points": 3,
     "schema_version": 3,
     "solution": false
    }
   },
   "outputs": [],
   "source": [
    "from hashlib import sha1\n",
    "assert sha1(str(type(answer2_6)).encode(\"utf-8\")+b\"a609f\").hexdigest() == \"e3f33cd3175f13c5b1fd35d949dbdee86ab1d2ce\", \"type of answer2_6 is not str. answer2_6 should be an str\"\n",
    "assert sha1(str(len(answer2_6)).encode(\"utf-8\")+b\"a609f\").hexdigest() == \"5e1dda6237dee7b10ec63a573a4014299b20c18c\", \"length of answer2_6 is not correct\"\n",
    "assert sha1(str(answer2_6.lower()).encode(\"utf-8\")+b\"a609f\").hexdigest() == \"65018aace771bcd005611919cd31b9b25e0cee53\", \"value of answer2_6 is not correct\"\n",
    "assert sha1(str(answer2_6).encode(\"utf-8\")+b\"a609f\").hexdigest() == \"3d76f86ce6ddcc905661e3dbb121f5770596e4a5\", \"correct string value of answer2_6 but incorrect case of letters\"\n",
    "\n",
    "print('Success!')"
   ]
  },
  {
   "cell_type": "markdown",
   "metadata": {
    "deletable": false,
    "editable": false,
    "nbgrader": {
     "cell_type": "markdown",
     "checksum": "6aef431522c8dba8d06f105ac210ecfd",
     "grade": false,
     "grade_id": "cell-070238e3e7380252",
     "locked": true,
     "schema_version": 3,
     "solution": false
    }
   },
   "source": [
    "**Question 2.7**\n",
    "<br> {points: 1}\n",
    "\n",
    "Compare your answers in 2.4 and 2.6. Are they the same?\n",
    "\n",
    "*Assign your answer to an object called `answer2_7`. Make sure the correct answer is written in lower-case. Remember to surround your answer with quotation marks (e.g. \"yes\" / \"no\").* "
   ]
  },
  {
   "cell_type": "code",
   "execution_count": null,
   "metadata": {
    "deletable": false,
    "nbgrader": {
     "cell_type": "code",
     "checksum": "e969c267f7269cfcdb58d807dcadd0a3",
     "grade": false,
     "grade_id": "cell-5eb56b54aae58afa",
     "locked": false,
     "schema_version": 3,
     "solution": true
    }
   },
   "outputs": [],
   "source": [
    "# your code here\n",
    "raise NotImplementedError"
   ]
  },
  {
   "cell_type": "code",
   "execution_count": null,
   "metadata": {
    "deletable": false,
    "editable": false,
    "nbgrader": {
     "cell_type": "code",
     "checksum": "58d598728a27808bb4c86e9e3fe62f29",
     "grade": true,
     "grade_id": "cell-067dc96bdc43046c",
     "locked": true,
     "points": 3,
     "schema_version": 3,
     "solution": false
    }
   },
   "outputs": [],
   "source": [
    "from hashlib import sha1\n",
    "assert sha1(str(type(answer2_7)).encode(\"utf-8\")+b\"47bd1\").hexdigest() == \"8089cc982d72a96e540b358961e2843607ea72f9\", \"type of answer2_7 is not str. answer2_7 should be an str\"\n",
    "assert sha1(str(len(answer2_7)).encode(\"utf-8\")+b\"47bd1\").hexdigest() == \"c832e32ce20e671db031a0bb4d73f75bc54a4d68\", \"length of answer2_7 is not correct\"\n",
    "assert sha1(str(answer2_7.lower()).encode(\"utf-8\")+b\"47bd1\").hexdigest() == \"4f5f95da1522b173ac00b5a5094b0b530e51a963\", \"value of answer2_7 is not correct\"\n",
    "assert sha1(str(answer2_7).encode(\"utf-8\")+b\"47bd1\").hexdigest() == \"4f5f95da1522b173ac00b5a5094b0b530e51a963\", \"correct string value of answer2_7 but incorrect case of letters\"\n",
    "\n",
    "print('Success!')"
   ]
  },
  {
   "cell_type": "markdown",
   "metadata": {
    "deletable": false,
    "editable": false,
    "nbgrader": {
     "cell_type": "markdown",
     "checksum": "6c0e438ec1491f860d3e075295498e0e",
     "grade": false,
     "grade_id": "cell-c279ff71adbb5d92",
     "locked": true,
     "schema_version": 3,
     "solution": false,
     "task": false
    }
   },
   "source": [
    "## 3. Using `scikit-learn` to perform k-nearest neighbours\n",
    "\n",
    "Now that we understand how K-nearest neighbours (k-nn) classification works, let's get familar with the `scikit-learn` Python package. The benefit of using `scikit-learn` is that it will keep our code simple, readable and accurate. Coding less and in a tidier format means that there is less chance for errors to occur.  \n",
    "\n",
    "We'll again focus on `Radius` and `Symmetry` as the two predictors. This time, we would like to predict the class of a new observation with `Symmetry = 1` and `Radius = 0`. This one is a bit tricky to do visually from the plot below, and so is a motivating example for us to compute the prediction using k-nn with the `scikit-learn` package. Let's use `K = 7`."
   ]
  },
  {
   "cell_type": "code",
   "execution_count": null,
   "metadata": {
    "deletable": false,
    "editable": false,
    "nbgrader": {
     "cell_type": "code",
     "checksum": "bd2dd86364838cdf3d42646a9ad64c77",
     "grade": false,
     "grade_id": "cell-56677f538700d703",
     "locked": true,
     "schema_version": 3,
     "solution": false,
     "task": false
    }
   },
   "outputs": [],
   "source": [
    "# Run this to remind yourself what the data looks like\n",
    "cancer_plot"
   ]
  },
  {
   "cell_type": "markdown",
   "metadata": {
    "deletable": false,
    "editable": false,
    "nbgrader": {
     "cell_type": "markdown",
     "checksum": "9eda1dc50d63ab186380d08c86d1bc5c",
     "grade": false,
     "grade_id": "cell-0be2bf18a64cc945",
     "locked": true,
     "schema_version": 3,
     "solution": false
    }
   },
   "source": [
    "**Question 3.1** \n",
    "<br> {points: 1}\n",
    "\n",
    "Create a **model** for K-nearest neighbours classification by using the `KNeighborsClassifier` function. Specify that we want to set `n_neighbors = 7`.\n",
    "\n",
    "Name your model specification `knn_spec`."
   ]
  },
  {
   "cell_type": "code",
   "execution_count": null,
   "metadata": {
    "deletable": false,
    "nbgrader": {
     "cell_type": "code",
     "checksum": "02af91221f9fdb4855c5737f2525182a",
     "grade": false,
     "grade_id": "cell-6c32562496f83241",
     "locked": false,
     "schema_version": 3,
     "solution": true,
     "task": false
    }
   },
   "outputs": [],
   "source": [
    "# ___ = KNeighborsClassifier(n_neighbors=___)\n",
    "\n",
    "# your code here\n",
    "raise NotImplementedError\n",
    "knn_spec"
   ]
  },
  {
   "cell_type": "code",
   "execution_count": null,
   "metadata": {
    "deletable": false,
    "editable": false,
    "nbgrader": {
     "cell_type": "code",
     "checksum": "7a97927ae7b718768be0cc161de52eaf",
     "grade": true,
     "grade_id": "cell-685a4e4330f23a90",
     "locked": true,
     "points": 1,
     "schema_version": 3,
     "solution": false
    }
   },
   "outputs": [],
   "source": [
    "from hashlib import sha1\n",
    "assert sha1(str(type(knn_spec is None)).encode(\"utf-8\")+b\"2245\").hexdigest() == \"78a85e8a7790e4e7a7d20d518a6e9e23249aeb08\", \"type of knn_spec is None is not bool. knn_spec is None should be a bool\"\n",
    "assert sha1(str(knn_spec is None).encode(\"utf-8\")+b\"2245\").hexdigest() == \"b44afb32e99c75fdbfb62a424921d1a2fa6f12ee\", \"boolean value of knn_spec is None is not correct\"\n",
    "\n",
    "assert sha1(str(type(knn_spec.n_neighbors)).encode(\"utf-8\")+b\"2246\").hexdigest() == \"1458700d2adfd82356dfd982b7941979cbd45589\", \"type of knn_spec.n_neighbors is not int. Please make sure it is int and not np.int64, etc. You can cast your value into an int using int()\"\n",
    "assert sha1(str(knn_spec.n_neighbors).encode(\"utf-8\")+b\"2246\").hexdigest() == \"22e82178737bce10c71283d1cf37544dd1dcbbb8\", \"value of knn_spec.n_neighbors is not correct\"\n",
    "\n",
    "assert sha1(str(type(knn_spec.algorithm)).encode(\"utf-8\")+b\"2247\").hexdigest() == \"c71db7d462b7abd56ce64492cec1d48ea9040224\", \"type of knn_spec.algorithm is not str. knn_spec.algorithm should be an str\"\n",
    "assert sha1(str(len(knn_spec.algorithm)).encode(\"utf-8\")+b\"2247\").hexdigest() == \"fc15a33f2e81ff2a1ebe2cdd52ca95582dc1df46\", \"length of knn_spec.algorithm is not correct\"\n",
    "assert sha1(str(knn_spec.algorithm.lower()).encode(\"utf-8\")+b\"2247\").hexdigest() == \"6fb8474d83ec0dc215e52cdc08b990751b7d94a9\", \"value of knn_spec.algorithm is not correct\"\n",
    "assert sha1(str(knn_spec.algorithm).encode(\"utf-8\")+b\"2247\").hexdigest() == \"6fb8474d83ec0dc215e52cdc08b990751b7d94a9\", \"correct string value of knn_spec.algorithm but incorrect case of letters\"\n",
    "\n",
    "print('Success!')"
   ]
  },
  {
   "cell_type": "markdown",
   "metadata": {
    "deletable": false,
    "editable": false,
    "nbgrader": {
     "cell_type": "markdown",
     "checksum": "eb2399b350c7d343589ed39615f585c5",
     "grade": false,
     "grade_id": "cell-5ccafffc3a34805b",
     "locked": true,
     "schema_version": 3,
     "solution": false
    }
   },
   "source": [
    "**Question 3.2**\n",
    "<br> {points: 1}\n",
    "\n",
    "To train the model on the breast cancer dataset, pass `knn_spec` and the `cancer` dataset to the `.fit` function. Specify `Class` as your target variable and the `Symmetry` and `Radius` variables as your predictors. Name your fitted model as `knn_fit`."
   ]
  },
  {
   "cell_type": "code",
   "execution_count": null,
   "metadata": {
    "deletable": false,
    "nbgrader": {
     "cell_type": "code",
     "checksum": "72f73386ec37bfcfb94b48055f369ade",
     "grade": false,
     "grade_id": "cell-cdee2d8667038f6a",
     "locked": false,
     "schema_version": 3,
     "solution": true
    }
   },
   "outputs": [],
   "source": [
    "# X = ___[[\"Symmetry\", ___]]\n",
    "# y = ___[___]\n",
    "# ___ = ___.fit(___, ___)\n",
    "\n",
    "# your code here\n",
    "raise NotImplementedError\n",
    "knn_fit"
   ]
  },
  {
   "cell_type": "code",
   "execution_count": null,
   "metadata": {
    "deletable": false,
    "editable": false,
    "nbgrader": {
     "cell_type": "code",
     "checksum": "033db4aef131705a362606a29f7f7c98",
     "grade": true,
     "grade_id": "cell-f99ed1dee272d06a",
     "locked": true,
     "points": 1,
     "schema_version": 3,
     "solution": false
    }
   },
   "outputs": [],
   "source": [
    "from hashlib import sha1\n",
    "assert sha1(str(type(knn_fit is None)).encode(\"utf-8\")+b\"2bff6\").hexdigest() == \"56a79c088e5ec5a42b96d6ea0d14cd8712fac03e\", \"type of knn_fit is None is not bool. knn_fit is None should be a bool\"\n",
    "assert sha1(str(knn_fit is None).encode(\"utf-8\")+b\"2bff6\").hexdigest() == \"268e8a79ae1936524d056ca5169d2c71a72e70a5\", \"boolean value of knn_fit is None is not correct\"\n",
    "\n",
    "assert sha1(str(type(type(knn_fit))).encode(\"utf-8\")+b\"2bff7\").hexdigest() == \"097a69bbecb57e7e121a5edde688e93d2fbf9d17\", \"type of type(knn_fit) is not correct\"\n",
    "assert sha1(str(type(knn_fit)).encode(\"utf-8\")+b\"2bff7\").hexdigest() == \"40872fc0b9fdb9d1467bfb606dfb31df50cfe4ea\", \"value of type(knn_fit) is not correct\"\n",
    "\n",
    "assert sha1(str(type(knn_fit.classes_)).encode(\"utf-8\")+b\"2bff8\").hexdigest() == \"cb4bb5ca40cc7954a382bfa33bd1532a3df2e583\", \"type of knn_fit.classes_ is not correct\"\n",
    "assert sha1(str(knn_fit.classes_).encode(\"utf-8\")+b\"2bff8\").hexdigest() == \"c422ff7ed5336560783f0ada3740882c912a4d97\", \"value of knn_fit.classes_ is not correct\"\n",
    "\n",
    "assert sha1(str(type(knn_fit.effective_metric_)).encode(\"utf-8\")+b\"2bff9\").hexdigest() == \"aa9d11a76326cf64bec451997ff4ae28ec4e2a9a\", \"type of knn_fit.effective_metric_ is not str. knn_fit.effective_metric_ should be an str\"\n",
    "assert sha1(str(len(knn_fit.effective_metric_)).encode(\"utf-8\")+b\"2bff9\").hexdigest() == \"6e6efca67ebf0603a534109614346757c0ef146d\", \"length of knn_fit.effective_metric_ is not correct\"\n",
    "assert sha1(str(knn_fit.effective_metric_.lower()).encode(\"utf-8\")+b\"2bff9\").hexdigest() == \"49892ddeb7ca1f1c4bf772ff4a585dd10249b813\", \"value of knn_fit.effective_metric_ is not correct\"\n",
    "assert sha1(str(knn_fit.effective_metric_).encode(\"utf-8\")+b\"2bff9\").hexdigest() == \"49892ddeb7ca1f1c4bf772ff4a585dd10249b813\", \"correct string value of knn_fit.effective_metric_ but incorrect case of letters\"\n",
    "\n",
    "assert sha1(str(type(knn_fit.n_features_in_)).encode(\"utf-8\")+b\"2bffa\").hexdigest() == \"08548a765b78a776a8b132bc9a51a75e1d960554\", \"type of knn_fit.n_features_in_ is not int. Please make sure it is int and not np.int64, etc. You can cast your value into an int using int()\"\n",
    "assert sha1(str(knn_fit.n_features_in_).encode(\"utf-8\")+b\"2bffa\").hexdigest() == \"114d53a02f71bf2cea7abe3280555955b16647b8\", \"value of knn_fit.n_features_in_ is not correct\"\n",
    "\n",
    "assert sha1(str(type(X.columns.values)).encode(\"utf-8\")+b\"2bffb\").hexdigest() == \"bd7b6259f8053a315fca30986b168530209f266d\", \"type of X.columns.values is not correct\"\n",
    "assert sha1(str(X.columns.values).encode(\"utf-8\")+b\"2bffb\").hexdigest() == \"b7dfb165b13d0e67f16b09e1dc18733df42a65a0\", \"value of X.columns.values is not correct\"\n",
    "\n",
    "assert sha1(str(type(y.name)).encode(\"utf-8\")+b\"2bffc\").hexdigest() == \"e8b9e2753401141ac2885e2394f32cc9cffa348a\", \"type of y.name is not str. y.name should be an str\"\n",
    "assert sha1(str(len(y.name)).encode(\"utf-8\")+b\"2bffc\").hexdigest() == \"793a9c94797d9b5899e9865188980d72d080ac2d\", \"length of y.name is not correct\"\n",
    "assert sha1(str(y.name.lower()).encode(\"utf-8\")+b\"2bffc\").hexdigest() == \"bcffa9a693072729c80524aafde25fd6b259f4c3\", \"value of y.name is not correct\"\n",
    "assert sha1(str(y.name).encode(\"utf-8\")+b\"2bffc\").hexdigest() == \"788a47e28ae9d6cd3cbf4823a5d93017aa6addd9\", \"correct string value of y.name but incorrect case of letters\"\n",
    "\n",
    "assert sha1(str(type(sum(X.Symmetry))).encode(\"utf-8\")+b\"2bffd\").hexdigest() == \"903f7c4e29e57fe29f567ef056e34f51335aec78\", \"type of sum(X.Symmetry) is not float. Please make sure it is float and not np.float64, etc. You can cast your value into a float using float()\"\n",
    "assert sha1(str(round(sum(X.Symmetry), 2)).encode(\"utf-8\")+b\"2bffd\").hexdigest() == \"9397d4f7e4087a12b928268b533b6f46554e7efa\", \"value of sum(X.Symmetry) is not correct (rounded to 2 decimal places)\"\n",
    "\n",
    "assert sha1(str(type(sum(X.Radius))).encode(\"utf-8\")+b\"2bffe\").hexdigest() == \"d9df2ec2ea3462b25d7d591366163062bdb4021e\", \"type of sum(X.Radius) is not float. Please make sure it is float and not np.float64, etc. You can cast your value into a float using float()\"\n",
    "assert sha1(str(round(sum(X.Radius), 2)).encode(\"utf-8\")+b\"2bffe\").hexdigest() == \"5bd565738755b0a3859dbce84dffc4a36fe6656e\", \"value of sum(X.Radius) is not correct (rounded to 2 decimal places)\"\n",
    "\n",
    "print('Success!')"
   ]
  },
  {
   "cell_type": "markdown",
   "metadata": {
    "deletable": false,
    "editable": false,
    "nbgrader": {
     "cell_type": "markdown",
     "checksum": "247c7c6fb6c0a8485a26007733e7e0d6",
     "grade": false,
     "grade_id": "cell-51e9956deb5ca6fd",
     "locked": true,
     "schema_version": 3,
     "solution": false,
     "task": false
    }
   },
   "source": [
    "**Question 3.3**\n",
    "<br>{points: 1}\n",
    "\n",
    "Now we will make our prediction on the `Class` of a new observation with a `Symmetry` of 1 and a `Radius` of 0. First, create a dataframe with these variables and values and call it `new_obs`. Next, use the `.predict` function to obtain our prediction by passing `knn_fit` and `new_obs` to it. Name your predicted class as `class_prediction`."
   ]
  },
  {
   "cell_type": "code",
   "execution_count": null,
   "metadata": {
    "deletable": false,
    "nbgrader": {
     "cell_type": "code",
     "checksum": "95b6b6409bbe8ad405dd630070e68dc7",
     "grade": false,
     "grade_id": "cell-29520122db413f38",
     "locked": false,
     "schema_version": 3,
     "solution": true,
     "task": false
    }
   },
   "outputs": [],
   "source": [
    "# ___ = pd.DataFrame([[1, 0]], columns=[___, ___])\n",
    "# ___ = ___.predict(___)\n",
    "\n",
    "# your code here\n",
    "raise NotImplementedError\n",
    "class_prediction"
   ]
  },
  {
   "cell_type": "code",
   "execution_count": null,
   "metadata": {
    "deletable": false,
    "editable": false,
    "nbgrader": {
     "cell_type": "code",
     "checksum": "52550a4ec0879b73f368b3fa18b598f1",
     "grade": true,
     "grade_id": "cell-8ccf0ef821e9d0de",
     "locked": true,
     "points": 1,
     "schema_version": 3,
     "solution": false,
     "task": false
    }
   },
   "outputs": [],
   "source": [
    "from hashlib import sha1\n",
    "assert sha1(str(type(new_obs is None)).encode(\"utf-8\")+b\"cc461\").hexdigest() == \"ab0357cbb8bfe0c9949b6d69e4c245d2af0635c6\", \"type of new_obs is None is not bool. new_obs is None should be a bool\"\n",
    "assert sha1(str(new_obs is None).encode(\"utf-8\")+b\"cc461\").hexdigest() == \"a170f5d0292d586ae590d1baca2f13355fb1c178\", \"boolean value of new_obs is None is not correct\"\n",
    "\n",
    "assert sha1(str(type(new_obs)).encode(\"utf-8\")+b\"cc462\").hexdigest() == \"46dce56999c53d1950618cc8e55690c524892a78\", \"type of type(new_obs) is not correct\"\n",
    "\n",
    "assert sha1(str(type(new_obs.Symmetry.values)).encode(\"utf-8\")+b\"cc463\").hexdigest() == \"113c0758f0ab20fd6712d816469f64cbc4243a12\", \"type of new_obs.Symmetry.values is not correct\"\n",
    "assert sha1(str(new_obs.Symmetry.values).encode(\"utf-8\")+b\"cc463\").hexdigest() == \"a41abcf000cf506078cdf4e306ca8121772da0f6\", \"value of new_obs.Symmetry.values is not correct\"\n",
    "\n",
    "assert sha1(str(type(new_obs.Radius.values)).encode(\"utf-8\")+b\"cc464\").hexdigest() == \"ca2beddfd89352b63fc45c70ca25260e7271c928\", \"type of new_obs.Radius.values is not correct\"\n",
    "assert sha1(str(new_obs.Radius.values).encode(\"utf-8\")+b\"cc464\").hexdigest() == \"195b0a370675aea18bf01c541c099428f4e248bd\", \"value of new_obs.Radius.values is not correct\"\n",
    "\n",
    "assert sha1(str(type(class_prediction is None)).encode(\"utf-8\")+b\"cc465\").hexdigest() == \"1ebd9c72926a2430221b10ae35a374b95040d55f\", \"type of class_prediction is None is not bool. class_prediction is None should be a bool\"\n",
    "assert sha1(str(class_prediction is None).encode(\"utf-8\")+b\"cc465\").hexdigest() == \"883aa082b8853226ec339ff84fd4744558d7fd3b\", \"boolean value of class_prediction is None is not correct\"\n",
    "\n",
    "assert sha1(str(type(class_prediction)).encode(\"utf-8\")+b\"cc466\").hexdigest() == \"a0d1780e9e6b14b3a86e32b907408ae8253ceec5\", \"type of class_prediction is not correct\"\n",
    "assert sha1(str(class_prediction).encode(\"utf-8\")+b\"cc466\").hexdigest() == \"2704eb31133cad075ccb97f6c93ca707487c9642\", \"value of class_prediction is not correct\"\n",
    "\n",
    "print('Success!')"
   ]
  },
  {
   "cell_type": "markdown",
   "metadata": {
    "deletable": false,
    "editable": false,
    "nbgrader": {
     "cell_type": "markdown",
     "checksum": "f3a4ca158cfe5d48a5af51ae177c8e7a",
     "grade": false,
     "grade_id": "cell-df0b5140effdf82e",
     "locked": true,
     "schema_version": 3,
     "solution": false
    }
   },
   "source": [
    "**Question 3.4**\n",
    "<br> {points: 1}\n",
    "\n",
    "Let's perform K-nearest neighbour classification again, but with three predictors. Use the `scikit-learn` package and `K = 7` to classify a new observation where we measure `Symmetry = 1`, `Radius = 0` and `Concavity = 1`. Use the scaffolding from **Questions 3.2** and **3.3** to help you.\n",
    "\n",
    "- Pass the same `knn_spec` from before to `fit`, but this time specify `Symmetry`, `Radius`, and `Concavity` as the predictors. Save the predictor as `X_2` and the target as `y_2`. Store the output in `knn_fit_2`. \n",
    "- Store the new observation values in an object called `new_obs_2`.\n",
    "- Store the output of `predict` in an object called `class_prediction_2`."
   ]
  },
  {
   "cell_type": "code",
   "execution_count": null,
   "metadata": {
    "deletable": false,
    "nbgrader": {
     "cell_type": "code",
     "checksum": "272fcd889a202e370dbae3503caeac99",
     "grade": false,
     "grade_id": "cell-9ebae1c9d403b859",
     "locked": false,
     "schema_version": 3,
     "solution": true
    }
   },
   "outputs": [],
   "source": [
    "# your code here\n",
    "raise NotImplementedError\n",
    "class_prediction_2"
   ]
  },
  {
   "cell_type": "code",
   "execution_count": null,
   "metadata": {
    "deletable": false,
    "editable": false,
    "nbgrader": {
     "cell_type": "code",
     "checksum": "e92e96f35d158f0f19ef3f2c6aadf2b7",
     "grade": true,
     "grade_id": "cell-ae8bad16e80bdfef",
     "locked": true,
     "points": 1,
     "schema_version": 3,
     "solution": false
    }
   },
   "outputs": [],
   "source": [
    "from hashlib import sha1\n",
    "assert sha1(str(type(knn_fit_2 is None)).encode(\"utf-8\")+b\"1c52c\").hexdigest() == \"56fcaa2be4db81bcc9472911429b629cba6101f3\", \"type of knn_fit_2 is None is not bool. knn_fit_2 is None should be a bool\"\n",
    "assert sha1(str(knn_fit_2 is None).encode(\"utf-8\")+b\"1c52c\").hexdigest() == \"99533bc9488848c2608ec11993eb5cfe3033cdf5\", \"boolean value of knn_fit_2 is None is not correct\"\n",
    "\n",
    "assert sha1(str(type(knn_fit_2.kneighbors)).encode(\"utf-8\")+b\"1c52d\").hexdigest() == \"3f30af90ec8c1a811004f1225ae54fbd83681019\", \"type of knn_fit_2.kneighbors is not correct\"\n",
    "assert sha1(str(knn_fit_2.kneighbors).encode(\"utf-8\")+b\"1c52d\").hexdigest() == \"55cb84f4cc156f43e6f8f2b5aa8379f34d7d579d\", \"value of knn_fit_2.kneighbors is not correct\"\n",
    "\n",
    "assert sha1(str(type(knn_fit_2.effective_metric_)).encode(\"utf-8\")+b\"1c52e\").hexdigest() == \"4a071b6a39a1366f1c50cfff6bf5bafe83bd944b\", \"type of knn_fit_2.effective_metric_ is not str. knn_fit_2.effective_metric_ should be an str\"\n",
    "assert sha1(str(len(knn_fit_2.effective_metric_)).encode(\"utf-8\")+b\"1c52e\").hexdigest() == \"6949133fe0bc9d23f3f2391308a85eeac883a74a\", \"length of knn_fit_2.effective_metric_ is not correct\"\n",
    "assert sha1(str(knn_fit_2.effective_metric_.lower()).encode(\"utf-8\")+b\"1c52e\").hexdigest() == \"fed6a9fc14d942c80421836e802e4f459699e299\", \"value of knn_fit_2.effective_metric_ is not correct\"\n",
    "assert sha1(str(knn_fit_2.effective_metric_).encode(\"utf-8\")+b\"1c52e\").hexdigest() == \"fed6a9fc14d942c80421836e802e4f459699e299\", \"correct string value of knn_fit_2.effective_metric_ but incorrect case of letters\"\n",
    "\n",
    "assert sha1(str(type(type(knn_fit_2))).encode(\"utf-8\")+b\"1c52f\").hexdigest() == \"c0688283eb347b3a716716a2762a46dfa6000cbd\", \"type of type(knn_fit_2) is not correct\"\n",
    "assert sha1(str(type(knn_fit_2)).encode(\"utf-8\")+b\"1c52f\").hexdigest() == \"0704b8be28fd8da7859dd6fc8e5148535b75399d\", \"value of type(knn_fit_2) is not correct\"\n",
    "\n",
    "assert sha1(str(type(knn_fit_2.n_features_in_)).encode(\"utf-8\")+b\"1c530\").hexdigest() == \"3ac6a926c4de23bcae7e9a759aca7cd489f4cad2\", \"type of knn_fit_2.n_features_in_ is not int. Please make sure it is int and not np.int64, etc. You can cast your value into an int using int()\"\n",
    "assert sha1(str(knn_fit_2.n_features_in_).encode(\"utf-8\")+b\"1c530\").hexdigest() == \"a032550f3adad26547a9e2adaae58acd93a5b36e\", \"value of knn_fit_2.n_features_in_ is not correct\"\n",
    "\n",
    "assert sha1(str(type(X_2.columns.values)).encode(\"utf-8\")+b\"1c531\").hexdigest() == \"a7b153af47464cec438aaac3a5398422f15c739c\", \"type of X_2.columns.values is not correct\"\n",
    "assert sha1(str(X_2.columns.values).encode(\"utf-8\")+b\"1c531\").hexdigest() == \"c3fd80e7a523addffb5f040e8560caf25c601447\", \"value of X_2.columns.values is not correct\"\n",
    "\n",
    "assert sha1(str(type(y_2.name)).encode(\"utf-8\")+b\"1c532\").hexdigest() == \"6ecd85411910b1c1e49f8fb6a6c446122031f3a3\", \"type of y_2.name is not str. y_2.name should be an str\"\n",
    "assert sha1(str(len(y_2.name)).encode(\"utf-8\")+b\"1c532\").hexdigest() == \"ebad5f09e153e6397258881e828d3d859c85154e\", \"length of y_2.name is not correct\"\n",
    "assert sha1(str(y_2.name.lower()).encode(\"utf-8\")+b\"1c532\").hexdigest() == \"7c29dd51d86bde999e3497b24a52324ffa88d80b\", \"value of y_2.name is not correct\"\n",
    "assert sha1(str(y_2.name).encode(\"utf-8\")+b\"1c532\").hexdigest() == \"ff10a06265a833d1274bee055d40fe11d6c1de8f\", \"correct string value of y_2.name but incorrect case of letters\"\n",
    "\n",
    "assert sha1(str(type(y_2.values)).encode(\"utf-8\")+b\"1c533\").hexdigest() == \"6701ed81a4e9d4e3d605bff672f33abc4cab49ab\", \"type of y_2.values is not correct\"\n",
    "assert sha1(str(y_2.values).encode(\"utf-8\")+b\"1c533\").hexdigest() == \"1eeb2c2596b3d6987df53c982b8921d368bfa856\", \"value of y_2.values is not correct\"\n",
    "\n",
    "assert sha1(str(type(sum(X_2.Symmetry))).encode(\"utf-8\")+b\"1c534\").hexdigest() == \"401b25657e3ccc6f373b04c3f73b718954f2f87f\", \"type of sum(X_2.Symmetry) is not float. Please make sure it is float and not np.float64, etc. You can cast your value into a float using float()\"\n",
    "assert sha1(str(round(sum(X_2.Symmetry), 2)).encode(\"utf-8\")+b\"1c534\").hexdigest() == \"10b6bfc8d4273cf2cda252fff3ead0fcdb4a13cd\", \"value of sum(X_2.Symmetry) is not correct (rounded to 2 decimal places)\"\n",
    "\n",
    "assert sha1(str(type(sum(X_2.Radius))).encode(\"utf-8\")+b\"1c535\").hexdigest() == \"bc045aaaa3e654827d701f1a154d82ce3bf159de\", \"type of sum(X_2.Radius) is not float. Please make sure it is float and not np.float64, etc. You can cast your value into a float using float()\"\n",
    "assert sha1(str(round(sum(X_2.Radius), 2)).encode(\"utf-8\")+b\"1c535\").hexdigest() == \"ba710607201f7fb546dfbff2bbf8125c43eb507a\", \"value of sum(X_2.Radius) is not correct (rounded to 2 decimal places)\"\n",
    "\n",
    "assert sha1(str(type(sum(X_2.Concavity))).encode(\"utf-8\")+b\"1c536\").hexdigest() == \"bdd5f789273332ff93a37a929e933342daf588ce\", \"type of sum(X_2.Concavity) is not float. Please make sure it is float and not np.float64, etc. You can cast your value into a float using float()\"\n",
    "assert sha1(str(round(sum(X_2.Concavity), 2)).encode(\"utf-8\")+b\"1c536\").hexdigest() == \"c83ba58970a37bc501a808908479fa9f85081954\", \"value of sum(X_2.Concavity) is not correct (rounded to 2 decimal places)\"\n",
    "\n",
    "assert sha1(str(type(new_obs_2 is None)).encode(\"utf-8\")+b\"1c537\").hexdigest() == \"0e6db0897dec3a5a0be1727ee2174838fed8392d\", \"type of new_obs_2 is None is not bool. new_obs_2 is None should be a bool\"\n",
    "assert sha1(str(new_obs_2 is None).encode(\"utf-8\")+b\"1c537\").hexdigest() == \"3bd0c39ffd477eef3d20295014e9603c292a36db\", \"boolean value of new_obs_2 is None is not correct\"\n",
    "\n",
    "assert sha1(str(type(new_obs_2)).encode(\"utf-8\")+b\"1c538\").hexdigest() == \"dbd7bddf2ba93297c398200c3aba22eee791cc2b\", \"type of type(new_obs_2) is not correct\"\n",
    "\n",
    "assert sha1(str(type(new_obs_2.Symmetry.values)).encode(\"utf-8\")+b\"1c539\").hexdigest() == \"f025231cf463eb1b53a6eb94ed504ae8eacbd2b3\", \"type of new_obs_2.Symmetry.values is not correct\"\n",
    "assert sha1(str(new_obs_2.Symmetry.values).encode(\"utf-8\")+b\"1c539\").hexdigest() == \"ee3ccc35dc76e76f3d3f26ce2af31aba1c00475d\", \"value of new_obs_2.Symmetry.values is not correct\"\n",
    "\n",
    "assert sha1(str(type(new_obs_2.Radius.values)).encode(\"utf-8\")+b\"1c53a\").hexdigest() == \"88a9bfa1595cca275e5f844a75c8fd0e7e660b85\", \"type of new_obs_2.Radius.values is not correct\"\n",
    "assert sha1(str(new_obs_2.Radius.values).encode(\"utf-8\")+b\"1c53a\").hexdigest() == \"71bc38e24dca943a89fdba0e143c0c93a97d9dbd\", \"value of new_obs_2.Radius.values is not correct\"\n",
    "\n",
    "assert sha1(str(type(new_obs_2.Concavity.values)).encode(\"utf-8\")+b\"1c53b\").hexdigest() == \"581e0fa5a3a53d9c88d6df38ab3e022f128d41bb\", \"type of new_obs_2.Concavity.values is not correct\"\n",
    "assert sha1(str(new_obs_2.Concavity.values).encode(\"utf-8\")+b\"1c53b\").hexdigest() == \"6366ed5e9216d5cf0dab850bfd420217af90487c\", \"value of new_obs_2.Concavity.values is not correct\"\n",
    "\n",
    "assert sha1(str(type(class_prediction_2 is None)).encode(\"utf-8\")+b\"1c53c\").hexdigest() == \"102656310fdb351c06ebfcd34be208a380387416\", \"type of class_prediction_2 is None is not bool. class_prediction_2 is None should be a bool\"\n",
    "assert sha1(str(class_prediction_2 is None).encode(\"utf-8\")+b\"1c53c\").hexdigest() == \"2a4bb29e14b26cb4fba6321e00f5ea7264414756\", \"boolean value of class_prediction_2 is None is not correct\"\n",
    "\n",
    "assert sha1(str(type(class_prediction_2)).encode(\"utf-8\")+b\"1c53d\").hexdigest() == \"0d077a418cd3754263e26adf0dd15e657d98c01a\", \"type of class_prediction_2 is not correct\"\n",
    "assert sha1(str(class_prediction_2).encode(\"utf-8\")+b\"1c53d\").hexdigest() == \"fa0463880a9a71ddc10bfae3b027f9f4a6da0038\", \"value of class_prediction_2 is not correct\"\n",
    "\n",
    "print('Success!')"
   ]
  },
  {
   "cell_type": "markdown",
   "metadata": {
    "deletable": false,
    "editable": false,
    "nbgrader": {
     "cell_type": "markdown",
     "checksum": "c33846ad5061d448188446ecb5183971",
     "grade": false,
     "grade_id": "cell-5758f98a43d755fe",
     "locked": true,
     "schema_version": 3,
     "solution": false,
     "task": false
    }
   },
   "source": [
    "**Question 3.5**\n",
    "<br>{points: 1}\n",
    "\n",
    "Finally, we will perform K-nearest neighbour classification again, using the `scikit-learn` package and `K = 7` to classify a new observation where we use **all the predictors** in our data set (we give you the values in the code below). \n",
    "\n",
    "But we first have to do one important thing: we need to remove the ID variable from the analysis (it's not a numerical measurement that we should use for classification). Thankfully, `scikit-learn` provides a nice way of combining data preprocessing and training into a single consistent pipeline.\n",
    "\n",
    "We will first create a preprocessor to remove the `ID` variable using the `drop` preprocessing step. Since we aren't doing any preprocessing to other columns, we will set the `remainder` parameter to `passthrough`. Do so below using the provided scaffolding. Name the preprocessor object `knn_preprocessor`.\n"
   ]
  },
  {
   "cell_type": "code",
   "execution_count": null,
   "metadata": {
    "deletable": false,
    "nbgrader": {
     "cell_type": "code",
     "checksum": "19fb5a3fabf55091873905acc63b3f5a",
     "grade": false,
     "grade_id": "cell-4b45e92db544f078",
     "locked": false,
     "schema_version": 3,
     "solution": true,
     "task": false
    }
   },
   "outputs": [],
   "source": [
    "# ___ = make_column_transformer(\n",
    "#     (\"drop\", [___]),\n",
    "#     remainder=___\n",
    "# )\n",
    "\n",
    "# your code here\n",
    "raise NotImplementedError\n",
    "knn_preprocessor"
   ]
  },
  {
   "cell_type": "code",
   "execution_count": null,
   "metadata": {
    "deletable": false,
    "editable": false,
    "nbgrader": {
     "cell_type": "code",
     "checksum": "e6a035b5bc5fe70535318831aab899ae",
     "grade": true,
     "grade_id": "cell-c6b6f36644c1de32",
     "locked": true,
     "points": 1,
     "schema_version": 3,
     "solution": false,
     "task": false
    }
   },
   "outputs": [],
   "source": [
    "from hashlib import sha1\n",
    "assert sha1(str(type(knn_preprocessor is None)).encode(\"utf-8\")+b\"c9190\").hexdigest() == \"1aa697ad8121d7a033d091dd1dde11fd9a9048c0\", \"type of knn_preprocessor is None is not bool. knn_preprocessor is None should be a bool\"\n",
    "assert sha1(str(knn_preprocessor is None).encode(\"utf-8\")+b\"c9190\").hexdigest() == \"fa97b74142ab349c61853efd4aed109620ea4419\", \"boolean value of knn_preprocessor is None is not correct\"\n",
    "\n",
    "assert sha1(str(type(type(knn_preprocessor))).encode(\"utf-8\")+b\"c9191\").hexdigest() == \"1109d30d9e1570f804f20d5d028ef6afce897841\", \"type of type(knn_preprocessor) is not correct\"\n",
    "assert sha1(str(type(knn_preprocessor)).encode(\"utf-8\")+b\"c9191\").hexdigest() == \"b7f41df01f0ad5de7c336fbe446f33229e39ffba\", \"value of type(knn_preprocessor) is not correct\"\n",
    "\n",
    "assert sha1(str(type(knn_preprocessor.get_feature_names_out)).encode(\"utf-8\")+b\"c9192\").hexdigest() == \"bb33b66fca24d58fe1cd06f2a2985674ee8f0698\", \"type of knn_preprocessor.get_feature_names_out is not correct\"\n",
    "assert sha1(str(knn_preprocessor.get_feature_names_out).encode(\"utf-8\")+b\"c9192\").hexdigest() == \"ee35e154ea1785364b8455f97248689b3f960199\", \"value of knn_preprocessor.get_feature_names_out is not correct\"\n",
    "\n",
    "print('Success!')"
   ]
  },
  {
   "cell_type": "markdown",
   "metadata": {
    "deletable": false,
    "editable": false,
    "nbgrader": {
     "cell_type": "markdown",
     "checksum": "cf7f976e89a5c9e9f17e07358a223cf4",
     "grade": false,
     "grade_id": "cell-f2205e10137bba29",
     "locked": true,
     "schema_version": 3,
     "solution": false,
     "task": false
    }
   },
   "source": [
    "**Question 3.6**\n",
    "<br> {points: 1}\n",
    "\n",
    "Create a **pipeline** that includes the new preprocessor (`knn_preprocessor`) and the model specification (`knn_spec`) using the scaffolding below. Name the pipeline object `knn_pipeline`."
   ]
  },
  {
   "cell_type": "code",
   "execution_count": null,
   "metadata": {
    "deletable": false,
    "nbgrader": {
     "cell_type": "code",
     "checksum": "3d4ab70626ac09d16b3e7a6dc453fdfe",
     "grade": false,
     "grade_id": "cell-ad1115a24af76299",
     "locked": false,
     "schema_version": 3,
     "solution": true,
     "task": false
    }
   },
   "outputs": [],
   "source": [
    "# ___ = make_pipeline(___, ___)\n",
    "\n",
    "# your code here\n",
    "raise NotImplementedError\n",
    "knn_pipeline"
   ]
  },
  {
   "cell_type": "code",
   "execution_count": null,
   "metadata": {
    "deletable": false,
    "editable": false,
    "nbgrader": {
     "cell_type": "code",
     "checksum": "b690df9aa7b4decda5a31d6b42dcb00e",
     "grade": true,
     "grade_id": "cell-a091b39308a96640",
     "locked": true,
     "points": 1,
     "schema_version": 3,
     "solution": false,
     "task": false
    }
   },
   "outputs": [],
   "source": [
    "from hashlib import sha1\n",
    "assert sha1(str(type(knn_pipeline is None)).encode(\"utf-8\")+b\"570b0\").hexdigest() == \"5229d62594055e066352668824c5c3908bb29f74\", \"type of knn_pipeline is None is not bool. knn_pipeline is None should be a bool\"\n",
    "assert sha1(str(knn_pipeline is None).encode(\"utf-8\")+b\"570b0\").hexdigest() == \"1d2994bb8a065a370b5d478a8087d37e3841c353\", \"boolean value of knn_pipeline is None is not correct\"\n",
    "\n",
    "assert sha1(str(type(type(knn_pipeline))).encode(\"utf-8\")+b\"570b1\").hexdigest() == \"4b6b2b6e8dcd91c384d5e7b3ffaa5df5ed5fac76\", \"type of type(knn_pipeline) is not correct\"\n",
    "assert sha1(str(type(knn_pipeline)).encode(\"utf-8\")+b\"570b1\").hexdigest() == \"7cff373362fd36faa9d06c119ebecf6820b812f0\", \"value of type(knn_pipeline) is not correct\"\n",
    "\n",
    "assert sha1(str(type(knn_pipeline.named_steps.kneighborsclassifier.n_neighbors)).encode(\"utf-8\")+b\"570b2\").hexdigest() == \"c0cf487b545aea403a76ddbbedba6f508f1e6b8f\", \"type of knn_pipeline.named_steps.kneighborsclassifier.n_neighbors is not int. Please make sure it is int and not np.int64, etc. You can cast your value into an int using int()\"\n",
    "assert sha1(str(knn_pipeline.named_steps.kneighborsclassifier.n_neighbors).encode(\"utf-8\")+b\"570b2\").hexdigest() == \"0c675a0ab79e6e0c763779b13443212fca47db27\", \"value of knn_pipeline.named_steps.kneighborsclassifier.n_neighbors is not correct\"\n",
    "\n",
    "print('Success!')"
   ]
  },
  {
   "cell_type": "markdown",
   "metadata": {
    "deletable": false,
    "editable": false,
    "nbgrader": {
     "cell_type": "markdown",
     "checksum": "ad8fe156d4918254e41e1606f024227d",
     "grade": false,
     "grade_id": "cell-f5f5e1eb6b4eae96",
     "locked": true,
     "schema_version": 3,
     "solution": false,
     "task": false
    }
   },
   "source": [
    "**Question 3.7**\n",
    "{points: 1}\n",
    "\n",
    "Finally, `fit` the pipeline and predict the class label for the new observation named `new_obs_all`. Name the `fit` object `knn_fit_all`, and the class prediction `class_prediction_all`. Name the new predictor as `X_3` and the new target as `y_3`."
   ]
  },
  {
   "cell_type": "code",
   "execution_count": null,
   "metadata": {
    "deletable": false,
    "nbgrader": {
     "cell_type": "code",
     "checksum": "de540dbaf10c7e0c1ed2d9e6fec8bc78",
     "grade": false,
     "grade_id": "cell-1a574f5403a0315e",
     "locked": false,
     "schema_version": 3,
     "solution": true
    }
   },
   "outputs": [],
   "source": [
    "new_obs_all = pd.DataFrame(\n",
    "    [[None, 0, 0, 0, 0, 0.5, 0, 1, 0, 1, 0]],\n",
    "    columns=[\n",
    "        \"ID\",\n",
    "        \"Radius\",\n",
    "        \"Texture\",\n",
    "        \"Perimeter\",\n",
    "        \"Area\",\n",
    "        \"Smoothness\",\n",
    "        \"Compactness\",\n",
    "        \"Concavity\",\n",
    "        \"Concave_points\",\n",
    "        \"Symmetry\",\n",
    "        \"Fractal_dimension\",\n",
    "    ],\n",
    ")\n",
    "# X_3 = cancer.drop(columns=[___])\n",
    "# y_3 = cancer[___]\n",
    "# ___ = knn_pipeline.fit(___, ___)\n",
    "# ___ = knn_fit_all.____(____)\n",
    "\n",
    "# your code here\n",
    "raise NotImplementedError\n",
    "class_prediction_all"
   ]
  },
  {
   "cell_type": "code",
   "execution_count": null,
   "metadata": {
    "deletable": false,
    "editable": false,
    "nbgrader": {
     "cell_type": "code",
     "checksum": "89fdc33e15b1cec94898742287b5b927",
     "grade": true,
     "grade_id": "cell-036a77a7a92f0c3d",
     "locked": true,
     "points": 1,
     "schema_version": 3,
     "solution": false
    }
   },
   "outputs": [],
   "source": [
    "from hashlib import sha1\n",
    "assert sha1(str(type(class_prediction_all)).encode(\"utf-8\")+b\"bdab9\").hexdigest() == \"6a39e4695fdfb5df240814e4336bf420375f8ab0\", \"type of class_prediction_all is not correct\"\n",
    "assert sha1(str(class_prediction_all).encode(\"utf-8\")+b\"bdab9\").hexdigest() == \"f3a6c0bfa60af2a0f2398b36ffe3f27359ac2478\", \"value of class_prediction_all is not correct\"\n",
    "\n",
    "print('Success!')"
   ]
  },
  {
   "cell_type": "markdown",
   "metadata": {
    "deletable": false,
    "editable": false,
    "nbgrader": {
     "cell_type": "markdown",
     "checksum": "9e58b841ef09ca686d209a1e2317eb80",
     "grade": false,
     "grade_id": "cell-9fe84a61d314cfed",
     "locked": true,
     "schema_version": 3,
     "solution": false,
     "task": false
    }
   },
   "source": [
    "## 4. Reviewing Some Concepts\n",
    "\n",
    "We will conclude with two multiple choice questions to reinforce some key concepts when doing classification with K-nearest neighbours."
   ]
  },
  {
   "cell_type": "markdown",
   "metadata": {
    "deletable": false,
    "editable": false,
    "nbgrader": {
     "cell_type": "markdown",
     "checksum": "486de8a86ebe4009219df6b5358bb550",
     "grade": false,
     "grade_id": "cell-b904a53540f32475",
     "locked": true,
     "schema_version": 3,
     "solution": false
    }
   },
   "source": [
    "**Question 4.0**\n",
    "<br> {points: 1}\n",
    "\n",
    "In the K-nearest neighbours classification algorithm, we calculate the distance between the new observation (for which we are trying to predict the class/label/outcome) and each of the observations in the training data set so that we can:\n",
    "\n",
    "A. Find the `K` nearest neighbours of the new observation\n",
    "\n",
    "B. Assess how well our model fits the data\n",
    "\n",
    "C. Find outliers\n",
    "\n",
    "D. Assign the new observation to a cluster\n",
    "\n",
    "*Assign your answer (e.g. \"E\") to an object called: `answer4_0`. Make sure your answer is an uppercase letter and is surrounded with quotation marks.*"
   ]
  },
  {
   "cell_type": "code",
   "execution_count": null,
   "metadata": {
    "deletable": false,
    "nbgrader": {
     "cell_type": "code",
     "checksum": "fb615604ca1e21ab81a688c7c0c884a8",
     "grade": false,
     "grade_id": "cell-13d8575850bc1390",
     "locked": false,
     "schema_version": 3,
     "solution": true
    }
   },
   "outputs": [],
   "source": [
    "# your code here\n",
    "raise NotImplementedError"
   ]
  },
  {
   "cell_type": "code",
   "execution_count": null,
   "metadata": {
    "deletable": false,
    "editable": false,
    "nbgrader": {
     "cell_type": "code",
     "checksum": "26371d4f277449a55743fb6f8dc6f193",
     "grade": true,
     "grade_id": "cell-437eb5f41aed17bc",
     "locked": true,
     "points": 1,
     "schema_version": 3,
     "solution": false
    }
   },
   "outputs": [],
   "source": [
    "from hashlib import sha1\n",
    "assert sha1(str(type(answer4_0)).encode(\"utf-8\")+b\"32876\").hexdigest() == \"2968028cff983f17d6540bc8914f3d47b996a3c6\", \"type of answer4_0 is not str. answer4_0 should be an str\"\n",
    "assert sha1(str(len(answer4_0)).encode(\"utf-8\")+b\"32876\").hexdigest() == \"96149ef6e9e08b0767c78829d60e48e10c76d82b\", \"length of answer4_0 is not correct\"\n",
    "assert sha1(str(answer4_0.lower()).encode(\"utf-8\")+b\"32876\").hexdigest() == \"bf7eb488a64fb468f981afb6a22c48e5d9426864\", \"value of answer4_0 is not correct\"\n",
    "assert sha1(str(answer4_0).encode(\"utf-8\")+b\"32876\").hexdigest() == \"72f0250c431d2044375f10f0e659890a11bb9a27\", \"correct string value of answer4_0 but incorrect case of letters\"\n",
    "\n",
    "print('Success!')"
   ]
  },
  {
   "cell_type": "markdown",
   "metadata": {
    "deletable": false,
    "editable": false,
    "nbgrader": {
     "cell_type": "markdown",
     "checksum": "76ab4ea5bf55a3e8c0235e5ce82c7ff6",
     "grade": false,
     "grade_id": "cell-a60b11b11c972d2c",
     "locked": true,
     "schema_version": 3,
     "solution": false,
     "task": false
    }
   },
   "source": [
    "**Question 4.1**\n",
    "<br> {points: 1}\n",
    "\n",
    "In the K-nearest neighbours classification algorithm, we choose the label/class for a new observation by:\n",
    "\n",
    "A. Taking the mean (average value) label/class of the K nearest neighbours \n",
    "\n",
    "B. Taking the median (middle value) label/class of the K nearest neighbours \n",
    "\n",
    "C. Taking the mode (value that appears most often, *i.e.*, the majority vote) label/class of the K nearest neighbours \n",
    "\n",
    "*Assign your answer (e.g., \"E\") to an object called `answer4_1`. Make sure your answer is an uppercase letter and is surrounded with quotation marks.*"
   ]
  },
  {
   "cell_type": "code",
   "execution_count": null,
   "metadata": {
    "deletable": false,
    "nbgrader": {
     "cell_type": "code",
     "checksum": "63c2b6bfa4c158fbdb4b84ed619b1ecc",
     "grade": false,
     "grade_id": "cell-ed504d5d3d6f58ea",
     "locked": false,
     "schema_version": 3,
     "solution": true
    }
   },
   "outputs": [],
   "source": [
    "# your code here\n",
    "raise NotImplementedError"
   ]
  },
  {
   "cell_type": "code",
   "execution_count": null,
   "metadata": {
    "deletable": false,
    "editable": false,
    "nbgrader": {
     "cell_type": "code",
     "checksum": "2959ef5ce646917e995f2e2616f268a7",
     "grade": true,
     "grade_id": "cell-303f4a3bd9b343f2",
     "locked": true,
     "points": 1,
     "schema_version": 3,
     "solution": false
    }
   },
   "outputs": [],
   "source": [
    "from hashlib import sha1\n",
    "assert sha1(str(type(answer4_1)).encode(\"utf-8\")+b\"efb0a\").hexdigest() == \"fd81d778721d49e0f748a99c8b6630137990c6e3\", \"type of answer4_1 is not str. answer4_1 should be an str\"\n",
    "assert sha1(str(len(answer4_1)).encode(\"utf-8\")+b\"efb0a\").hexdigest() == \"70fd0074b7e2d3374bdea9e7921a74f40a6076af\", \"length of answer4_1 is not correct\"\n",
    "assert sha1(str(answer4_1.lower()).encode(\"utf-8\")+b\"efb0a\").hexdigest() == \"1d1126f4f8ef88cb64b68937378a3523069d2dd2\", \"value of answer4_1 is not correct\"\n",
    "assert sha1(str(answer4_1).encode(\"utf-8\")+b\"efb0a\").hexdigest() == \"4f66d8df3ceed6d93679130380ed8da04b6f60d1\", \"correct string value of answer4_1 but incorrect case of letters\"\n",
    "\n",
    "print('Success!')"
   ]
  }
 ],
 "metadata": {
  "jupytext": {
   "encoding": "# -*- coding: utf-8 -*-"
  },
  "kernelspec": {
   "display_name": "Python 3.11.4 - rstudio",
   "language": "python",
   "name": "rstudio-user-3.11.4"
  },
  "language_info": {
   "codemirror_mode": {
    "name": "ipython",
    "version": 3
   },
   "file_extension": ".py",
   "mimetype": "text/x-python",
   "name": "python",
   "nbconvert_exporter": "python",
   "pygments_lexer": "ipython3",
   "version": "3.11.5"
  }
 },
 "nbformat": 4,
 "nbformat_minor": 4
}
